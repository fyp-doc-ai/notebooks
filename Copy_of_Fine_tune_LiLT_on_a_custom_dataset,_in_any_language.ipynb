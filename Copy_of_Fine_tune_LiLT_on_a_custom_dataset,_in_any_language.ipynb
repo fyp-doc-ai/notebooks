{
  "nbformat": 4,
  "nbformat_minor": 0,
  "metadata": {
    "colab": {
      "provenance": [],
      "gpuType": "T4",
      "collapsed_sections": [
        "j9UecXVM2l-b",
        "g3IhmTwy2h0N",
        "u-O6CIP1AhE6",
        "UXJY2HJWHAw6",
        "Xlfs3tgMbRsN"
      ],
      "include_colab_link": true
    },
    "kernelspec": {
      "name": "python3",
      "display_name": "Python 3"
    },
    "language_info": {
      "name": "python"
    },
    "accelerator": "GPU"
  },
  "cells": [
    {
      "cell_type": "markdown",
      "metadata": {
        "id": "view-in-github",
        "colab_type": "text"
      },
      "source": [
        "<a href=\"https://colab.research.google.com/github/fyp-doc-ai/notebooks/blob/main/Copy_of_Fine_tune_LiLT_on_a_custom_dataset%2C_in_any_language.ipynb\" target=\"_parent\"><img src=\"https://colab.research.google.com/assets/colab-badge.svg\" alt=\"Open In Colab\"/></a>"
      ]
    },
    {
      "cell_type": "markdown",
      "source": [
        "# Set-up environment"
      ],
      "metadata": {
        "id": "HsOZsfXh9dDl"
      }
    },
    {
      "cell_type": "code",
      "source": [
        "!pip install -q transformers datasets\n",
        "!pip install -q evaluate seqeval\n",
        "!pip install accelerate===0.20.3 -U -q"
      ],
      "metadata": {
        "id": "lejWIoXqEr5w"
      },
      "execution_count": null,
      "outputs": []
    },
    {
      "cell_type": "code",
      "source": [
        "!sudo apt install tesseract-ocr-eng\n",
        "!pip install -q pytesseract\n",
        "!sudo apt-get install tesseract-ocr-sin"
      ],
      "metadata": {
        "colab": {
          "base_uri": "https://localhost:8080/"
        },
        "id": "CXcdSDFrwVIQ",
        "outputId": "e581b67c-b237-4b4b-bec5-f02820fc0d9e"
      },
      "execution_count": null,
      "outputs": [
        {
          "output_type": "stream",
          "name": "stdout",
          "text": [
            "Reading package lists... Done\n",
            "Building dependency tree... Done\n",
            "Reading state information... Done\n",
            "tesseract-ocr-eng is already the newest version (1:4.00~git30-7274cfa-1.1).\n",
            "0 upgraded, 0 newly installed, 0 to remove and 16 not upgraded.\n",
            "Reading package lists... Done\n",
            "Building dependency tree... Done\n",
            "Reading state information... Done\n",
            "tesseract-ocr-sin is already the newest version (1:4.00~git30-7274cfa-1.1).\n",
            "0 upgraded, 0 newly installed, 0 to remove and 16 not upgraded.\n"
          ]
        }
      ]
    },
    {
      "cell_type": "code",
      "source": [
        "exit()"
      ],
      "metadata": {
        "id": "CHSplzaDuQtp"
      },
      "execution_count": null,
      "outputs": []
    },
    {
      "cell_type": "code",
      "source": [
        "import pytesseract\n",
        "pytesseract.pytesseract.tesseract_cmd =  r'/usr/bin/tesseract'"
      ],
      "metadata": {
        "id": "rO0Vy4ZcwW7c"
      },
      "execution_count": null,
      "outputs": []
    },
    {
      "cell_type": "code",
      "source": [
        "from google.colab import drive\n",
        "drive.mount('/content/drive')"
      ],
      "metadata": {
        "colab": {
          "base_uri": "https://localhost:8080/"
        },
        "id": "Uh6UI1MCy4i3",
        "outputId": "0103efd8-e241-4fd3-b643-af6a13637060"
      },
      "execution_count": null,
      "outputs": [
        {
          "output_type": "stream",
          "name": "stdout",
          "text": [
            "Mounted at /content/drive\n"
          ]
        }
      ]
    },
    {
      "cell_type": "code",
      "source": [
        "MAX_SEQ_LENGTH = 512"
      ],
      "metadata": {
        "id": "_mek0o3u1m12"
      },
      "execution_count": null,
      "outputs": []
    },
    {
      "cell_type": "markdown",
      "source": [
        "# Load dataset"
      ],
      "metadata": {
        "id": "skz8D8B99el5"
      }
    },
    {
      "cell_type": "markdown",
      "source": [
        "## FUNSD"
      ],
      "metadata": {
        "id": "j9UecXVM2l-b"
      }
    },
    {
      "cell_type": "code",
      "source": [
        "FUNSD_TRAINING = True"
      ],
      "metadata": {
        "id": "LHnvrN0trdyA"
      },
      "execution_count": null,
      "outputs": []
    },
    {
      "cell_type": "code",
      "source": [
        "from datasets import load_dataset\n",
        "\n",
        "dataset = load_dataset(\"nielsr/funsd-iob-original\")"
      ],
      "metadata": {
        "id": "wAc1da482lrT"
      },
      "execution_count": null,
      "outputs": []
    },
    {
      "cell_type": "code",
      "source": [
        "label_list = dataset[\"train\"].features[\"ner_tags\"].feature.names\n",
        "id2label = {id:label for id, label in enumerate(label_list)}\n",
        "label2id = {label:id for id, label in enumerate(label_list)}\n",
        "print(id2label)"
      ],
      "metadata": {
        "colab": {
          "base_uri": "https://localhost:8080/"
        },
        "id": "G3yYbGZh2rX-",
        "outputId": "285343ff-1ebb-41ab-d263-d633f913c172"
      },
      "execution_count": null,
      "outputs": [
        {
          "output_type": "stream",
          "name": "stdout",
          "text": [
            "{0: 'O', 1: 'B-HEADER', 2: 'I-HEADER', 3: 'B-QUESTION', 4: 'I-QUESTION', 5: 'B-ANSWER', 6: 'I-ANSWER'}\n"
          ]
        }
      ]
    },
    {
      "cell_type": "markdown",
      "source": [
        "## Our Data"
      ],
      "metadata": {
        "id": "g3IhmTwy2h0N"
      }
    },
    {
      "cell_type": "code",
      "source": [
        "FUNSD_TRAINING = False"
      ],
      "metadata": {
        "id": "znilJ1qquELV"
      },
      "execution_count": null,
      "outputs": []
    },
    {
      "cell_type": "code",
      "source": [
        "import pickle\n",
        "\n",
        "with open('/content/drive/MyDrive/FYP19-DocAI/temp/dataset.pkl', 'rb') as f:\n",
        "  dataset = pickle.load(f)"
      ],
      "metadata": {
        "id": "IAqIvO699cuP"
      },
      "execution_count": null,
      "outputs": []
    },
    {
      "cell_type": "code",
      "source": [
        "len(dataset[0]['words'])"
      ],
      "metadata": {
        "colab": {
          "base_uri": "https://localhost:8080/"
        },
        "id": "e2yAnJeYzXve",
        "outputId": "ecf37796-fdf4-4289-da6f-3c41af5fd935"
      },
      "execution_count": null,
      "outputs": [
        {
          "output_type": "execute_result",
          "data": {
            "text/plain": [
              "389"
            ]
          },
          "metadata": {},
          "execution_count": 7
        }
      ]
    },
    {
      "cell_type": "code",
      "execution_count": null,
      "metadata": {
        "id": "T-0CAn459X_d",
        "colab": {
          "base_uri": "https://localhost:8080/"
        },
        "outputId": "585d400e-7f53-41d7-a944-3741966cef7c"
      },
      "outputs": [
        {
          "output_type": "stream",
          "name": "stdout",
          "text": [
            "{0: 'O', 1: 'B-HEADER', 2: 'I-HEADER', 3: 'B-QUESTION', 4: 'I-QUESTION', 5: 'B-ANSWER', 6: 'I-ANSWER'}\n"
          ]
        }
      ],
      "source": [
        "label_list =  ['O', 'B-HEADER', 'I-HEADER', 'B-QUESTION', 'I-QUESTION', 'B-ANSWER', 'I-ANSWER']\n",
        "id2label = {id:label for id, label in enumerate(label_list)}\n",
        "label2id = {label:id for id, label in enumerate(label_list)}\n",
        "print(id2label)"
      ]
    },
    {
      "cell_type": "markdown",
      "metadata": {
        "id": "4uzGtQ-wyab4"
      },
      "source": [
        "# Create PyTorch Dataset"
      ]
    },
    {
      "cell_type": "code",
      "execution_count": null,
      "metadata": {
        "id": "UenGHEUOyeNm"
      },
      "outputs": [],
      "source": [
        "from torch.utils.data import Dataset\n",
        "from PIL import Image\n",
        "import torch\n",
        "\n",
        "def normalize_bbox(bbox, width, height):\n",
        "    return [\n",
        "        int(1000 * (bbox[0] / width)),\n",
        "        int(1000 * (bbox[1] / height)),\n",
        "        int(1000 * (bbox[2] / width)),\n",
        "        int(1000 * (bbox[3] / height)),\n",
        "    ]\n",
        "\n",
        "class CustomDataset(Dataset):\n",
        "  def __init__(self, dataset, tokenizer):\n",
        "    self.dataset = dataset\n",
        "    self.tokenizer = tokenizer\n",
        "\n",
        "  def __len__(self):\n",
        "    return len(self.dataset)\n",
        "\n",
        "  def __getitem__(self, idx):\n",
        "    # get item\n",
        "    example = self.dataset[idx]\n",
        "    image = example[\"image\"]\n",
        "    words = example[\"words\"]\n",
        "    boxes = example[\"original_bboxes\"]\n",
        "    ner_tags = example[\"ner_tags\"]\n",
        "\n",
        "    # prepare for the model\n",
        "    width, height = image.size\n",
        "\n",
        "    bbox = []\n",
        "    labels = []\n",
        "    for word, box, label in zip(words, boxes, ner_tags):\n",
        "        box = normalize_bbox(box, width, height)\n",
        "        n_word_tokens = len(tokenizer.tokenize(word, max_length=MAX_SEQ_LENGTH,  truncation=True))\n",
        "        bbox.extend([box] * n_word_tokens)\n",
        "        labels.extend([label] + ([-100] * (n_word_tokens - 1)))\n",
        "\n",
        "    cls_box = sep_box = [0, 0, 0, 0]\n",
        "    bbox = [cls_box] + bbox + [sep_box]\n",
        "    labels = [-100] + labels + [-100]\n",
        "\n",
        "    encoding = self.tokenizer(\" \".join(words), truncation=True, max_length=MAX_SEQ_LENGTH)\n",
        "    sequence_length = len(encoding.input_ids)\n",
        "    # truncate boxes and labels based on length of input ids\n",
        "    labels = labels[:sequence_length]\n",
        "    bbox = bbox[:sequence_length]\n",
        "\n",
        "    encoding[\"bbox\"] = bbox\n",
        "    encoding[\"labels\"] = labels\n",
        "\n",
        "    return encoding"
      ]
    },
    {
      "cell_type": "code",
      "execution_count": null,
      "metadata": {
        "id": "TNSxzw3cxzR4"
      },
      "outputs": [],
      "source": [
        "from transformers import AutoTokenizer\n",
        "\n",
        "tokenizer = AutoTokenizer.from_pretrained(\"nielsr/lilt-xlm-roberta-base\", max_length=MAX_SEQ_LENGTH)"
      ]
    },
    {
      "cell_type": "code",
      "execution_count": null,
      "metadata": {
        "id": "5aOPVOj4yobW"
      },
      "outputs": [],
      "source": [
        "if FUNSD_TRAINING == True:\n",
        "  train_dataset = CustomDataset(dataset[\"train\"], tokenizer)\n",
        "  eval_dataset = CustomDataset(dataset[\"test\"], tokenizer)\n",
        "else:\n",
        "  train_dataset = CustomDataset(dataset, tokenizer)\n",
        "  eval_dataset = CustomDataset(dataset, tokenizer)"
      ]
    },
    {
      "cell_type": "code",
      "execution_count": null,
      "metadata": {
        "id": "t_P7p9Oz6W5v"
      },
      "outputs": [],
      "source": [
        "example = train_dataset[0]"
      ]
    },
    {
      "cell_type": "code",
      "execution_count": null,
      "metadata": {
        "colab": {
          "base_uri": "https://localhost:8080/"
        },
        "id": "4zCD1gGX6YJ7",
        "outputId": "0d3d77df-623d-4e76-b5ca-02ecfd25d970"
      },
      "outputs": [
        {
          "output_type": "execute_result",
          "data": {
            "text/plain": [
              "'<s> 2023 වර්ෂයේ දී රජයේ පාසල්වල පළමුවන ශ් රේණියට තම දරුවන් ඇතුළත් කිරීමට බලාපොරොත්තු වන දෙමාපියන් / නිත් යනුකූල භාරකරුවන් මෙම නිවේදනයේ දැක්වෙන උපදෙස් අනුව හා ලබා දී ඇති ආකෘති පත් රයට අනුව සකස් කළ අයදුම්පත් තමන්ට අදාළ වන පාසල්වල ප් රධානීන් වෙත 2022 ජුලි 16 ට ප් රථම ලැබෙන සේ ලියාපදිංචි තැපෑලෙන් ඉදිරිපත් කළ යුතු වේ. සියලු ම සුදුසුකම් සපුරාලිය යුත්තේ 2022 ජූනි 30 දිනට වලංගු වන පරිදිය. අයදුම්පත් පහත දැක්වෙන ආදර්ශ ආකෘති පත් රය අනුව සකස් කළ යුතු ය. අධ් යාපන අමාත් යාංශය 2023 වර්ෂයේ රජයේ පාසල්වල පළමුවන ශ් රේණියට ළමයින් ඇතුළත් කිරීම පිළිබඳ උපදෙස් 2.2 02. ළමයා පිළිබඳ විස්තර : 2.1 2.3 2023 වර්ෂයේ දී ( ළමයාගේ උප්පැන්න සහතිකයේ පිටපතක් හා තමා ඉල්ලුම් කරනු ලබන ගණය යටතේ, අදාළ වන සියලු ම ලිපි ලේඛනවල පිටපත්, දිව්රුම් ප් රකාශයක් මඟින් සහතික කර මෙයට අමුණා එවිය යුතු ය. ) 01. ඉල්ලුම් කරන ගණය : ( ගණ කිහිපයකට අයත් නම් වෙන වෙන ම ඉල්ලුම් කළ යුතු ය. ) 3.1 කො / රාජකීය පළමුවන ශ් රේණියට ඇතුළත් කිරීම සඳහා අයදුම් පත් රය 2.4 ස්ත් රී / පුරුෂ භාවය : 2.5 ආගම : බෞද්ධ 2.6 ඉගෙනුම් මාධ් යය ( සිංහල / දෙමළ ) 2.7 2018 උපන්දිනය : - අවුරුද්ද.. 2.8 2023 ජනවාරි මස 31 දිනට වයස : 03. අයදුම්කරු පිළිබඳ විස්තර : නිවේදනය සම්පූර්ණ නම : - මහේන් ඉදුරංග ගමගේ වාසගමට යටින් ඉරක් අඳින්න. ) මුලකුරු සමඟ නම ( සිංහලෙන් ) : - එම්. අයි. ගමගේ ( අගට යෙදෙන එක් නමක් පමණක් ලියන්න. උදා -බී.එස්.එස්. පීරිස් ) මුලකුරු සමඟ නම ( ඉංග් රීසියෙන් ) : - M. I. Gamage ( අගට යෙදෙන එක් නමක් පමණක් ලියන්න. උදා - B.S.S. PEIRIS ) පුරුෂ 3.3 මුලකුරු සමඟ නම : -. අයදුම්කරු සම්පූර්ණ නම : -... අකිල ඉදුරංග ගමගේ සිංහල 11 මාසය අවුරුදු A. I. ගමගේ ජාතික හැඳුනුම්පත් අංකය : 999851123V ඔව් ( මව / පියා / නිත් යනුකූල භාරකරු ) 4 3.5 3.7 ශ් රී ලාංකිකයෙක් - 3.9 ආගම......... බෞද්ධ 3.11</s>'"
            ],
            "application/vnd.google.colaboratory.intrinsic+json": {
              "type": "string"
            }
          },
          "metadata": {},
          "execution_count": 13
        }
      ],
      "source": [
        "tokenizer.decode(example[\"input_ids\"])"
      ]
    },
    {
      "cell_type": "code",
      "execution_count": null,
      "metadata": {
        "colab": {
          "base_uri": "https://localhost:8080/"
        },
        "id": "ArWb-ILbK-3x",
        "outputId": "3420fb16-2fde-498e-b3b5-c0d8c92b5f8a"
      },
      "outputs": [
        {
          "output_type": "stream",
          "name": "stdout",
          "text": [
            "input_ids 512\n",
            "attention_mask 512\n",
            "bbox 512\n",
            "labels 512\n"
          ]
        }
      ],
      "source": [
        "for k,v in example.items():\n",
        "  print(k,len(v))"
      ]
    },
    {
      "cell_type": "code",
      "execution_count": null,
      "metadata": {
        "colab": {
          "base_uri": "https://localhost:8080/"
        },
        "id": "xUfyC_mWH-oE",
        "outputId": "61cd378c-9b90-46ca-fa96-008a559a49ed"
      },
      "outputs": [
        {
          "output_type": "stream",
          "name": "stdout",
          "text": [
            "2023 [135, 355, 182, 377] O\n",
            "වර්ෂයේ [198, 355, 272, 377] O\n",
            "දී [286, 355, 295, 377] O\n",
            "රජයේ [311, 355, 370, 377] O\n",
            "පාසල්වල [384, 355, 472, 377] O\n",
            "පළමුවන [488, 355, 569, 377] O\n",
            "ශ්‍රේණියට [585, 355, 671, 377] O\n",
            "තම [687, 355, 718, 377] O\n",
            "දරුවන් [734, 355, 799, 377] O\n",
            "ඇතුළත් [814, 355, 888, 377] O\n",
            "කිරීමට [903, 355, 966, 377] O\n",
            "බලාපොරොත්තු [982, 355, 1131, 377] O\n",
            "වන [1147, 355, 1178, 377] O\n",
            "දෙමාපියන් [60, 383, 159, 406] O\n",
            "/ [159, 383, 169, 406] O\n",
            "නිත්‍යනුකූල [173, 383, 276, 406] O\n",
            "භාරකරුවන් [289, 383, 402, 406] O\n",
            "මෙම [413, 383, 458, 406] O\n",
            "නිවේදනයේ [470, 383, 581, 406] O\n",
            "දැක්වෙන [592, 383, 678, 406] O\n",
            "උපදෙස් [690, 383, 764, 406] O\n",
            "අනුව [774, 383, 821, 406] O\n",
            "හා [832, 383, 850, 406] O\n",
            "ලබා [865, 383, 904, 406] O\n",
            "දී [916, 383, 925, 406] O\n",
            "ඇති [936, 383, 972, 406] O\n",
            "ආකෘති [984, 383, 1049, 406] O\n",
            "පත්‍රයට [1060, 383, 1121, 406] O\n",
            "අනුව [1133, 383, 1179, 406] O\n",
            "සකස් [60, 413, 112, 435] O\n",
            "කළ [125, 413, 159, 435] O\n",
            "අයදුම්පත් [174, 413, 264, 435] O\n",
            "තමන්ට [278, 413, 345, 435] O\n",
            "අදාළ [360, 413, 407, 435] O\n",
            "වන [422, 413, 454, 435] O\n",
            "පාසල්වල [469, 413, 557, 435] O\n",
            "ප්‍රධානීන් [572, 413, 651, 435] O\n",
            "වෙත [665, 413, 710, 435] O\n",
            "2022 [724, 413, 774, 435] O\n",
            "ජුලි [789, 413, 819, 435] O\n",
            "16 [836, 413, 857, 435] O\n",
            "ට [872, 413, 884, 435] O\n",
            "ප්‍රථම [899, 413, 943, 435] O\n",
            "ලැබෙන [958, 413, 1032, 435] O\n",
            "සේ [1047, 413, 1075, 435] O\n",
            "ලියාපදිංචි [1091, 413, 1180, 435] O\n",
            "තැපෑලෙන් [60, 441, 160, 468] O\n",
            "ඉදිරිපත් [169, 441, 242, 468] O\n",
            "කළ [250, 441, 284, 468] O\n",
            "යුතු [294, 441, 325, 468] O\n",
            "වේ [335, 441, 361, 468] O\n",
            ". [364, 441, 367, 468] O\n",
            "සියලු [384, 441, 429, 468] O\n",
            "ම [450, 441, 457, 468] O\n",
            "සුදුසුකම් [471, 441, 544, 468] O\n",
            "සපුරාලිය [557, 441, 636, 468] O\n",
            "යුත්තේ [637, 441, 724, 468] O\n",
            "2022 [726, 441, 774, 468] O\n",
            "ජූනි [781, 441, 814, 468] O\n",
            "30 [823, 441, 849, 468] O\n",
            "දිනට [854, 441, 903, 468] O\n",
            "වලංගු [910, 441, 970, 468] O\n",
            "වන [976, 441, 1007, 468] O\n",
            "පරිදිය [1020, 441, 1071, 468] O\n",
            ". [1075, 441, 1081, 468] O\n",
            "අයදුම්පත් [60, 495, 150, 517] O\n",
            "පහත [158, 495, 204, 517] O\n",
            "දැක්වෙන [214, 495, 300, 517] O\n",
            "ආදර්ශ [309, 495, 369, 517] O\n",
            "ආකෘති [378, 495, 443, 517] O\n",
            "පත්‍රය [452, 495, 498, 517] O\n",
            "අනුව [508, 495, 554, 517] O\n",
            "සකස් [564, 495, 616, 517] O\n",
            "කළ [623, 495, 657, 517] O\n",
            "යුතු [667, 495, 698, 517] O\n",
            "ය [708, 495, 721, 517] O\n",
            ". [725, 495, 726, 517] O\n",
            "අධ්‍යාපන [515, 215, 599, 235] O\n",
            "අමාත්‍යාංශය [609, 215, 724, 235] O\n",
            "2023 [435, 256, 492, 284] B-HEADER\n",
            "වර්ෂයේ [512, 257, 615, 284] I-HEADER\n",
            "රජයේ [612, 258, 691, 285] I-HEADER\n",
            "පාසල්වල [708, 258, 808, 286] I-HEADER\n",
            "පළමුවන [279, 294, 382, 325] I-HEADER\n",
            "ශ්‍රේණියට [415, 294, 501, 325] I-HEADER\n",
            "ළමයින් [516, 294, 599, 325] I-HEADER\n",
            "ඇතුළත් [610, 294, 701, 325] I-HEADER\n",
            "කිරීම [724, 294, 774, 325] I-HEADER\n",
            "පිළිබඳ [785, 294, 863, 325] I-HEADER\n",
            "උපදෙස් [875, 294, 961, 325] I-HEADER\n",
            "2.2 [132, 913, 163, 926] B-QUESTION\n",
            "02. [73, 809, 98, 834] B-HEADER\n",
            "ළමයා [109, 809, 159, 833] I-HEADER\n",
            "පිළිබඳ [168, 807, 223, 833] I-HEADER\n",
            "විස්තර [232, 807, 287, 832] I-HEADER\n",
            ": [295, 807, 301, 831] I-HEADER\n",
            "2.1 [132, 852, 161, 865] B-QUESTION\n",
            "2.3 [132, 974, 161, 988] B-QUESTION\n",
            "2023 [234, 572, 283, 594] B-QUESTION\n",
            "වර්ෂයේ [293, 572, 367, 594] I-QUESTION\n",
            "දී [376, 572, 385, 594] I-QUESTION\n",
            "( [98, 657, 105, 683] O\n",
            "ළමයාගේ [110, 657, 186, 683] O\n",
            "උප්පැන්න [194, 657, 280, 683] O\n",
            "සහතිකයේ [289, 657, 381, 683] O\n",
            "පිටපතක් [389, 657, 465, 683] O\n",
            "හා [472, 657, 490, 683] O\n",
            "තමා [499, 657, 535, 683] O\n",
            "ඉල්ලුම් [543, 657, 603, 683] O\n",
            "කරනු [612, 657, 660, 683] O\n",
            "ලබන [668, 657, 714, 683] O\n",
            "ගණය [724, 657, 774, 683] O\n",
            "යටතේ [783, 657, 824, 683] O\n",
            ", [826, 657, 846, 683] O\n",
            "අදාළ [855, 657, 898, 683] O\n",
            "වන [906, 657, 935, 683] O\n",
            "සියලු [945, 657, 988, 683] O\n",
            "ම [997, 657, 1009, 683] O\n",
            "ලිපි [1018, 657, 1045, 683] O\n",
            "ලේඛනවල [1054, 657, 1146, 683] O\n",
            "පිටපත් [302, 683, 359, 704] O\n",
            ", [361, 683, 364, 704] O\n",
            "දිව්රුම් [373, 683, 429, 704] O\n",
            "ප්‍රකාශයක් [438, 683, 524, 704] O\n",
            "මඟින් [532, 683, 581, 704] O\n",
            "සහතික [588, 683, 650, 704] O\n",
            "කර [659, 683, 688, 704] O\n",
            "මෙයට [696, 683, 752, 704] O\n",
            "අමුණා [761, 683, 815, 704] O\n",
            "එවිය [824, 683, 864, 704] O\n",
            "යුතු [873, 683, 901, 704] O\n",
            "ය [910, 683, 922, 704] O\n",
            ". [926, 683, 927, 704] O\n",
            ") [932, 683, 934, 704] O\n",
            "01. [73, 730, 99, 755] B-QUESTION\n",
            "ඉල්ලුම් [110, 730, 170, 755] I-QUESTION\n",
            "කරන [179, 730, 226, 755] I-QUESTION\n",
            "ගණය [235, 730, 285, 755] I-QUESTION\n",
            ": [294, 730, 300, 755] I-QUESTION\n",
            "( [116, 759, 119, 782] O\n",
            "ගණ [124, 759, 159, 782] O\n",
            "කිහිපයකට [168, 759, 260, 782] O\n",
            "අයත් [269, 760, 313, 783] O\n",
            "නම් [320, 760, 351, 783] O\n",
            "වෙන [359, 760, 403, 784] O\n",
            "වෙන [412, 761, 456, 784] O\n",
            "ම [464, 761, 476, 784] O\n",
            "ඉල්ලුම් [485, 761, 544, 785] O\n",
            "කළ [553, 762, 585, 785] O\n",
            "යුතු [594, 762, 622, 785] O\n",
            "ය [631, 762, 643, 785] O\n",
            ". [647, 762, 648, 785] O\n",
            ") [654, 763, 657, 786] O\n",
            "3.1 [123, 1300, 150, 1314] B-QUESTION\n",
            "කො [503, 558, 508, 578] B-ANSWER\n",
            "/ [510, 557, 514, 577] I-ANSWER\n",
            "රාජකීය [524, 557, 593, 577] I-ANSWER\n",
            "පළමුවන [372, 601, 453, 623] I-QUESTION\n",
            "ශ්‍රේණියට [463, 601, 548, 623] I-QUESTION\n",
            "ඇතුළත් [558, 601, 632, 623] I-QUESTION\n",
            "කිරීම [640, 601, 687, 623] I-QUESTION\n",
            "සඳහා [697, 601, 749, 623] I-QUESTION\n",
            "අයදුම් [758, 601, 812, 623] I-QUESTION\n",
            "පත්‍රය [822, 601, 868, 623] I-QUESTION\n",
            "2.4 [135, 1040, 161, 1066] B-QUESTION\n",
            "ස්ත්‍රී [191, 1040, 219, 1066] I-QUESTION\n",
            "/ [222, 1040, 227, 1066] I-QUESTION\n",
            "පුරුෂ [235, 1040, 279, 1066] I-QUESTION\n",
            "භාවය [298, 1040, 336, 1066] I-QUESTION\n",
            ": [338, 1040, 341, 1066] I-QUESTION\n",
            "2.5 [133, 1075, 163, 1089] B-QUESTION\n",
            "ආගම [192, 1072, 236, 1095] I-QUESTION\n",
            ": [240, 1072, 242, 1093] I-QUESTION\n",
            "බෞද්ධ [303, 1068, 365, 1091] I-ANSWER\n",
            "2.6 [133, 1106, 162, 1120] B-QUESTION\n",
            "ඉගෙනුම් [191, 1105, 264, 1127] I-QUESTION\n",
            "මාධ්‍යය [273, 1105, 334, 1126] I-QUESTION\n",
            "( [344, 1105, 352, 1126] I-QUESTION\n",
            "සිංහල [355, 1104, 401, 1125] I-QUESTION\n",
            "/ [404, 1104, 409, 1125] I-QUESTION\n",
            "දෙමළ [417, 1104, 469, 1125] I-QUESTION\n",
            ") [471, 1104, 476, 1125] I-QUESTION\n",
            "2.7 [133, 1135, 160, 1152] B-QUESTION\n",
            "2018 [390, 1132, 435, 1146] B-ANSWER\n",
            "උපන්දිනය [191, 1134, 283, 1160] B-QUESTION\n",
            ": [287, 1134, 288, 1160] I-QUESTION\n",
            "- [292, 1134, 297, 1160] I-QUESTION\n",
            "අවුරුද්ද [308, 1134, 376, 1160] I-QUESTION\n",
            ".. [380, 1134, 389, 1160] I-QUESTION\n",
            "2.8 [132, 1168, 163, 1182] B-QUESTION\n",
            "2023 [191, 1164, 234, 1188] I-QUESTION\n",
            "ජනවාරි [243, 1164, 306, 1188] I-QUESTION\n",
            "මස [315, 1164, 342, 1188] I-QUESTION\n",
            "31 [351, 1165, 369, 1189] I-QUESTION\n",
            "දිනට [379, 1165, 420, 1189] I-QUESTION\n",
            "වයස [431, 1165, 470, 1189] I-QUESTION\n",
            ": [476, 1165, 482, 1189] I-QUESTION\n",
            "03. [73, 1227, 98, 1253] B-HEADER\n",
            "අයදුම්කරු [109, 1226, 197, 1253] I-HEADER\n",
            "පිළිබඳ [206, 1225, 260, 1251] I-HEADER\n",
            "විස්තර [269, 1224, 324, 1251] I-HEADER\n",
            ": [331, 1225, 337, 1250] I-HEADER\n",
            "නිවේදනය [568, 67, 671, 90] O\n",
            "සම්පූර්ණ [192, 849, 267, 875] I-QUESTION\n",
            "නම [284, 846, 306, 872] I-QUESTION\n",
            ": [311, 847, 314, 871] I-QUESTION\n",
            "- [319, 847, 320, 871] I-QUESTION\n",
            "මහේන් [353, 847, 415, 868] B-ANSWER\n",
            "ඉදුරංග [423, 847, 479, 868] I-ANSWER\n",
            "ගමගේ [488, 847, 546, 868] I-ANSWER\n",
            "වාසගමට [191, 877, 268, 898] O\n",
            "යටින් [277, 879, 325, 899] O\n",
            "ඉරක් [332, 880, 376, 900] O\n",
            "අඳින්න [383, 881, 444, 901] O\n",
            ". [448, 881, 449, 902] O\n",
            ") [454, 881, 456, 902] O\n",
            "මුලකුරු [191, 910, 258, 933] I-QUESTION\n",
            "සමඟ [266, 910, 310, 933] I-QUESTION\n",
            "නම [318, 910, 349, 933] I-QUESTION\n",
            "( [369, 910, 379, 933] I-QUESTION\n",
            "සිංහලෙන් [383, 910, 464, 933] I-QUESTION\n",
            ") [468, 910, 474, 933] I-QUESTION\n",
            ": [479, 910, 484, 933] I-QUESTION\n",
            "- [490, 910, 491, 933] I-QUESTION\n",
            "එම් [532, 912, 557, 932] B-ANSWER\n",
            ". [560, 912, 562, 931] I-ANSWER\n",
            "අයි [572, 912, 598, 931] I-ANSWER\n",
            ". [600, 911, 602, 930] I-ANSWER\n",
            "ගමගේ [611, 910, 670, 931] I-ANSWER\n",
            "( [195, 944, 198, 966] O\n",
            "අගට [202, 943, 241, 965] O\n",
            "යෙදෙන [250, 943, 318, 965] O\n",
            "එක් [327, 942, 358, 965] O\n",
            "නමක් [365, 942, 416, 964] O\n",
            "පමණක් [423, 942, 492, 964] O\n",
            "ලියන්න [500, 941, 571, 963] O\n",
            ". [571, 941, 571, 963] O\n",
            "උදා [581, 941, 611, 963] O\n",
            "-බී.එස්.එස් [619, 939, 710, 963] O\n",
            ". [712, 940, 713, 962] O\n",
            "පීරිස් [723, 940, 763, 962] O\n",
            ") [772, 940, 773, 962] O\n",
            "මුලකුරු [191, 970, 257, 996] I-QUESTION\n",
            "සමඟ [265, 970, 309, 995] I-QUESTION\n",
            "නම [317, 970, 348, 995] I-QUESTION\n",
            "( [371, 970, 378, 995] I-QUESTION\n",
            "ඉංග්‍රීසියෙන් [380, 969, 475, 995] I-QUESTION\n",
            ") [480, 969, 484, 994] I-QUESTION\n",
            ": [497, 969, 503, 994] I-QUESTION\n",
            "- [508, 970, 510, 995] I-QUESTION\n",
            "M. [541, 969, 563, 992] B-ANSWER\n",
            "I. [573, 969, 583, 992] I-ANSWER\n",
            "Gamage [590, 971, 678, 993] I-ANSWER\n",
            "( [195, 1002, 198, 1028] O\n",
            "අගට [202, 1001, 241, 1027] O\n",
            "යෙදෙන [250, 1001, 318, 1027] O\n",
            "එක් [327, 1001, 358, 1027] O\n",
            "නමක් [364, 1001, 416, 1027] O\n",
            "පමණක් [423, 1000, 492, 1026] O\n",
            "ලියන්න [500, 1000, 566, 1026] O\n",
            ". [570, 1000, 571, 1026] O\n",
            "උදා [581, 1000, 611, 1026] O\n",
            "- [619, 1000, 624, 1026] O\n",
            "B.S.S. [631, 999, 676, 1026] O\n",
            "PEIRIS [687, 999, 738, 1025] O\n",
            ") [743, 999, 749, 1025] O\n",
            "පුරුෂ [392, 1040, 436, 1059] B-ANSWER\n",
            "3.3 [123, 1379, 150, 1393] B-QUESTION\n",
            "මුලකුරු [182, 1377, 246, 1400] I-QUESTION\n",
            "සමඟ [256, 1376, 298, 1398] I-QUESTION\n",
            "නම [307, 1375, 338, 1396] I-QUESTION\n",
            ": [342, 1375, 343, 1395] I-QUESTION\n",
            "- [348, 1375, 353, 1395] I-QUESTION\n",
            ". [355, 1375, 356, 1395] I-QUESTION\n",
            "අයදුම්කරු [324, 1271, 411, 1293] B-HEADER\n",
            "සම්පූර්ණ [188, 1294, 263, 1322] I-QUESTION\n",
            "නම [271, 1293, 302, 1320] I-QUESTION\n",
            ": [306, 1294, 307, 1319] I-QUESTION\n",
            "-... [311, 1292, 332, 1319] I-QUESTION\n",
            "අකිල [348, 1291, 393, 1318] B-ANSWER\n",
            "ඉදුරංග [406, 1290, 460, 1316] I-ANSWER\n",
            "ගමගේ [464, 1289, 523, 1315] I-ANSWER\n",
            "සිංහල [526, 1103, 579, 1120] B-ANSWER\n",
            "11 [542, 1130, 564, 1145] I-ANSWER\n",
            "මාසය [460, 1137, 507, 1152] I-QUESTION\n",
            "අවුරුදු [515, 1169, 568, 1188] I-QUESTION\n",
            "A. [395, 1369, 414, 1387] B-ANSWER\n",
            "I. [428, 1369, 436, 1387] I-ANSWER\n",
            "ගමගේ [446, 1370, 504, 1388] I-ANSWER\n",
            "ජාතික [180, 1428, 234, 1460] B-QUESTION\n",
            "හැඳුනුම්පත් [237, 1430, 340, 1461] I-QUESTION\n",
            "අංකය [344, 1431, 400, 1463] I-QUESTION\n",
            ": [401, 1432, 404, 1464] I-QUESTION\n",
            "999851123V [166, 1453, 288, 1468] B-ANSWER\n",
            "ඔව් [377, 1478, 401, 1492] B-ANSWER\n",
            "( [381, 1229, 385, 1251] O\n",
            "මව [390, 1229, 416, 1251] O\n",
            "/ [420, 1229, 429, 1251] O\n",
            "පියා [437, 1229, 472, 1251] O\n",
            "/ [473, 1229, 483, 1251] O\n",
            "නිත්‍යනුකූල [488, 1229, 586, 1251] O\n",
            "භාරකරු [595, 1229, 660, 1252] O\n",
            ") [666, 1230, 673, 1252] O\n",
            "4 [598, 1162, 611, 1177] O\n",
            "3.5 [122, 1431, 151, 1446] B-QUESTION\n",
            "3.7 [123, 1478, 150, 1516] B-QUESTION\n",
            "ශ්‍රී [180, 1478, 193, 1516] I-QUESTION\n",
            "ලාංකිකයෙක් [207, 1480, 314, 1517] I-QUESTION\n",
            "- [343, 1481, 354, 1519] I-QUESTION\n",
            "3.9 [123, 1511, 152, 1525] B-QUESTION\n",
            "ආගම [181, 1506, 226, 1534] I-QUESTION\n",
            "......... [232, 1502, 279, 1530] O\n",
            "බෞද්ධ [285, 1497, 350, 1526] B-ANSWER\n",
            "3.11 [124, 1559, 158, 1587] B-QUESTION\n",
            "ස්ථිර [180, 1559, 220, 1586] I-QUESTION\n",
            "ලිපිනය [229, 1557, 289, 1586] I-QUESTION\n",
            ": [291, 1558, 296, 1585] I-QUESTION\n",
            "-... [299, 1557, 317, 1585] I-QUESTION\n",
            "11 [331, 1557, 348, 1584] B-ANSWER\n",
            "/ [350, 1557, 356, 1584] I-ANSWER\n",
            "6A [359, 1557, 384, 1584] I-ANSWER\n",
            ", [386, 1557, 389, 1584] I-ANSWER\n",
            "පන්සල [393, 1555, 463, 1584] I-ANSWER\n",
            "පාර [481, 1555, 501, 1583] I-ANSWER\n",
            ", [503, 1555, 505, 1582] I-ANSWER\n",
            "ගම්පහ [515, 1554, 571, 1583] I-ANSWER\n",
            "දිනය [629, 1136, 671, 1157] I-QUESTION\n",
            "3.2 [625, 1299, 655, 1315] B-QUESTION\n",
            "3.4 [626, 1378, 655, 1393] B-QUESTION\n",
            "3.6 [626, 1431, 654, 1446] B-QUESTION\n",
            "3.8 [625, 1485, 656, 1499] B-QUESTION\n",
            "3.10 [627, 1508, 665, 1530] B-QUESTION\n",
            "3.12 [625, 1566, 666, 1580] B-QUESTION\n",
            "22 [710, 1130, 731, 1145] I-ANSWER\n",
            "මාස [696, 1169, 730, 1182] I-QUESTION\n",
            "02 [758, 1163, 780, 1177] I-ANSWER\n",
            "දින [829, 1158, 850, 1194] I-QUESTION\n",
            ". [853, 1158, 856, 1189] I-QUESTION\n",
            "09 [870, 1151, 890, 1187] I-ANSWER\n",
            "විද්‍යාලයේ [911, 571, 1005, 594] I-QUESTION\n",
            "කලත්‍රයා [874, 1277, 945, 1294] B-HEADER\n",
            "සම්පූර්ණ [692, 1292, 766, 1322] I-QUESTION\n",
            "නම [775, 1291, 806, 1320] I-QUESTION\n",
            ": [810, 1292, 811, 1319] I-QUESTION\n",
            "-... [815, 1292, 836, 1319] I-QUESTION\n",
            "නිපුනි [857, 1290, 898, 1319] B-ANSWER\n",
            "ප්රමුදිතා [901, 1288, 981, 1318] I-ANSWER\n",
            "අහංගම [991, 1287, 1051, 1316] I-ANSWER\n",
            "විතානගේ [1059, 1285, 1141, 1315] I-ANSWER\n",
            "N. [894, 1364, 913, 1386] B-ANSWER\n",
            "P. [924, 1364, 941, 1386] I-ANSWER\n",
            "A. [949, 1364, 969, 1386] I-ANSWER\n",
            "අහංගම [979, 1364, 1042, 1386] I-ANSWER\n",
            "විතානගේ [1051, 1364, 1135, 1387] I-ANSWER\n",
            "මුලකුරු [691, 1377, 756, 1400] I-QUESTION\n",
            "සමඟ [764, 1376, 807, 1398] I-QUESTION\n",
            "නම [816, 1375, 847, 1397] I-QUESTION\n",
            ": [850, 1376, 852, 1396] I-QUESTION\n",
            "- [856, 1376, 862, 1396] I-QUESTION\n",
            ".. [864, 1375, 870, 1395] I-QUESTION\n",
            "ජාතික [691, 1428, 744, 1449] I-QUESTION\n",
            "හැඳුනුම්පත් [752, 1429, 850, 1450] I-QUESTION\n",
            "අංකය [854, 1430, 907, 1451] I-QUESTION\n",
            ": [910, 1430, 914, 1451] I-QUESTION\n",
            "199933813042 [727, 1449, 863, 1463] B-ANSWER\n",
            "ඔව් [884, 1478, 909, 1492] B-ANSWER\n",
            "ශ්‍රී [691, 1480, 703, 1511] I-QUESTION\n",
            "ලාංකිකයෙක් [711, 1478, 828, 1511] I-QUESTION\n",
            "ද [834, 1478, 838, 1509] I-QUESTION\n",
            ": [839, 1478, 844, 1509] I-QUESTION\n",
            "- [849, 1478, 854, 1509] I-QUESTION\n",
            ".. [856, 1478, 865, 1509] I-QUESTION\n",
            "ආගම [692, 1509, 738, 1531] I-QUESTION\n",
            ": [741, 1509, 745, 1531] I-QUESTION\n",
            "-... [747, 1509, 769, 1531] I-QUESTION\n",
            "බෞද්ධ [795, 1501, 857, 1522] B-ANSWER\n",
            "ස්ථිර [692, 1560, 730, 1588] I-QUESTION\n",
            "ලිපිනය [738, 1558, 799, 1587] I-QUESTION\n",
            ": [803, 1558, 804, 1585] I-QUESTION\n",
            "-... [808, 1556, 829, 1585] I-QUESTION\n",
            "11 [841, 1557, 861, 1584] B-ANSWER\n",
            "/ [864, 1556, 869, 1583] I-ANSWER\n",
            "6A [873, 1555, 895, 1583] I-ANSWER\n",
            ", [899, 1556, 903, 1583] I-ANSWER\n",
            "පන්සල [909, 1553, 973, 1583] I-ANSWER\n",
            "පාර [978, 1553, 998, 1581] I-ANSWER\n",
            ", [1001, 1553, 1019, 1580] I-ANSWER\n",
            "ගම්පහ [1024, 1551, 1082, 1580] I-ANSWER\n",
            "1 [1171, 1628, 1182, 1645] O\n"
          ]
        }
      ],
      "source": [
        "if FUNSD_TRAINING == True:\n",
        "  for word, box, label in zip(dataset[\"train\"][0][\"words\"], dataset[\"train\"][0][\"original_bboxes\"], dataset[\"train\"][0][\"ner_tags\"]):\n",
        "    print(word, box, id2label[label])\n",
        "else:\n",
        "  for word, box, label in zip(dataset[0][\"words\"], dataset[0][\"original_bboxes\"], dataset[0][\"ner_tags\"]):\n",
        "    print(word, box, id2label[label])"
      ]
    },
    {
      "cell_type": "code",
      "execution_count": null,
      "metadata": {
        "id": "7ERmka7YOWD8",
        "colab": {
          "base_uri": "https://localhost:8080/"
        },
        "outputId": "101fd68e-da46-4543-e50e-576710b8190c"
      },
      "outputs": [
        {
          "output_type": "execute_result",
          "data": {
            "text/plain": [
              "512"
            ]
          },
          "metadata": {},
          "execution_count": 16
        }
      ],
      "source": [
        "len(example[\"input_ids\"])"
      ]
    },
    {
      "cell_type": "code",
      "execution_count": null,
      "metadata": {
        "colab": {
          "base_uri": "https://localhost:8080/"
        },
        "id": "MGskeGPH8oqX",
        "outputId": "1f1f160b-a3df-4278-dec0-df34608ec628"
      },
      "outputs": [
        {
          "output_type": "stream",
          "name": "stdout",
          "text": [
            "<s> [0, 0, 0, 0] -100\n",
            "2023 [108, 202, 146, 214] O\n",
            "වර්ෂ [159, 202, 219, 214] O\n",
            "යේ [159, 202, 219, 214] -100\n",
            "දී [230, 202, 237, 214] O\n",
            "රජයේ [250, 202, 298, 214] O\n",
            "පාසල් [309, 202, 380, 214] O\n",
            "වල [309, 202, 380, 214] -100\n",
            "පළමු [393, 202, 458, 214] O\n",
            "වන [393, 202, 458, 214] -100\n",
            "ශ් [471, 202, 540, 214] O\n",
            "රේ [471, 202, 540, 214] -100\n",
            "ණිය [471, 202, 540, 214] -100\n",
            "ට [471, 202, 540, 214] -100\n",
            "තම [553, 202, 578, 214] O\n",
            "දරුවන් [591, 202, 643, 214] O\n",
            "ඇතුළත් [655, 202, 715, 214] O\n",
            "කිරීමට [727, 202, 778, 214] O\n",
            "බලාපොරොත්තු [791, 202, 911, 214] O\n",
            "වන [924, 202, 949, 214] O\n",
            "දෙ [48, 218, 128, 231] O\n",
            "මා [48, 218, 128, 231] -100\n",
            "පි [48, 218, 128, 231] -100\n",
            "යන් [48, 218, 128, 231] -100\n",
            "/ [128, 218, 136, 231] O\n",
            "නි [139, 218, 222, 231] O\n",
            "ත් [139, 218, 222, 231] -100\n",
            "යනු [139, 218, 222, 231] -100\n",
            "කූල [139, 218, 222, 231] -100\n",
            "භාර [232, 218, 323, 231] O\n",
            "කරුවන් [232, 218, 323, 231] -100\n",
            "මෙම [332, 218, 369, 231] O\n",
            "නිවේදනය [378, 218, 468, 231] O\n",
            "ේ [378, 218, 468, 231] -100\n",
            "දැක් [477, 218, 546, 231] O\n",
            "වෙන [477, 218, 546, 231] -100\n",
            "උපදෙස් [556, 218, 615, 231] O\n",
            "අනුව [623, 218, 661, 231] O\n",
            "හා [670, 218, 684, 231] O\n",
            "ලබා [697, 218, 728, 231] O\n",
            "දී [738, 218, 745, 231] O\n",
            "ඇති [754, 218, 783, 231] O\n",
            "ආ [792, 218, 845, 231] O\n",
            "කෘති [792, 218, 845, 231] -100\n",
            "පත් [854, 218, 903, 231] O\n",
            "රය [854, 218, 903, 231] -100\n",
            "ට [854, 218, 903, 231] -100\n",
            "අනුව [912, 218, 950, 231] O\n",
            "සකස් [48, 235, 90, 247] O\n",
            "කළ [100, 235, 128, 247] O\n",
            "අය [140, 235, 212, 247] O\n",
            "දුම් [140, 235, 212, 247] -100\n",
            "පත් [140, 235, 212, 247] -100\n",
            "තමන්ට [224, 235, 278, 247] O\n",
            "අදාළ [290, 235, 327, 247] O\n",
            "වන [340, 235, 365, 247] O\n",
            "පාසල් [377, 235, 448, 247] O\n",
            "වල [377, 235, 448, 247] -100\n",
            "ප් [460, 235, 524, 247] O\n",
            "රධාන [460, 235, 524, 247] -100\n",
            "ීන් [460, 235, 524, 247] -100\n",
            "වෙත [535, 235, 572, 247] O\n",
            "2022 [583, 235, 623, 247] O\n",
            " [635, 235, 659, 247] O\n",
            "ජු [635, 235, 659, 247] -100\n",
            "ලි [635, 235, 659, 247] -100\n",
            "16 [673, 235, 690, 247] O\n",
            " [702, 235, 712, 247] O\n",
            "ට [702, 235, 712, 247] -100\n",
            "ප් [724, 235, 759, 247] O\n",
            "රථම [724, 235, 759, 247] -100\n",
            "ලැබෙන [771, 235, 831, 247] O\n",
            "සේ [843, 235, 866, 247] O\n",
            "ලියාපදිංචි [879, 235, 950, 247] O\n",
            " [48, 251, 128, 266] O\n",
            "තැපෑල [48, 251, 128, 266] -100\n",
            "ෙන් [48, 251, 128, 266] -100\n",
            "ඉදිරිපත් [136, 251, 195, 266] O\n",
            "කළ [201, 251, 228, 266] O\n",
            "යුතු [236, 251, 261, 266] O\n",
            "වේ [269, 251, 290, 266] O\n",
            " [293, 251, 295, 266] O\n",
            ". [293, 251, 295, 266] -100\n",
            "සියලු [309, 251, 345, 266] O\n",
            "ම [362, 251, 368, 266] O\n",
            "සුදුසු [379, 251, 438, 266] O\n",
            "කම් [379, 251, 438, 266] -100\n",
            "ස [448, 251, 512, 266] O\n",
            "පු [448, 251, 512, 266] -100\n",
            "රා [448, 251, 512, 266] -100\n",
            "ලිය [448, 251, 512, 266] -100\n",
            "යුත්තේ [513, 251, 583, 266] O\n",
            "2022 [585, 251, 623, 266] O\n",
            "ජ [629, 251, 655, 266] O\n",
            "ූ [629, 251, 655, 266] -100\n",
            "නි [629, 251, 655, 266] -100\n",
            "30 [663, 251, 684, 266] O\n",
            "දින [688, 251, 727, 266] O\n",
            "ට [688, 251, 727, 266] -100\n",
            "වල [733, 251, 781, 266] O\n",
            "ංග [733, 251, 781, 266] -100\n",
            "ු [733, 251, 781, 266] -100\n",
            "වන [786, 251, 811, 266] O\n",
            "පරිදි [821, 251, 863, 266] O\n",
            "ය [821, 251, 863, 266] -100\n",
            " [866, 251, 871, 266] O\n",
            ". [866, 251, 871, 266] -100\n",
            "අය [48, 282, 120, 294] O\n",
            "දුම් [48, 282, 120, 294] -100\n",
            "පත් [48, 282, 120, 294] -100\n",
            "පහත [127, 282, 164, 294] O\n",
            "දැක් [172, 282, 241, 294] O\n",
            "වෙන [172, 282, 241, 294] -100\n",
            "ආ [248, 282, 297, 294] O\n",
            "ද [248, 282, 297, 294] -100\n",
            "ර්ශ [248, 282, 297, 294] -100\n",
            "ආ [304, 282, 356, 294] O\n",
            "කෘති [304, 282, 356, 294] -100\n",
            "පත් [364, 282, 401, 294] O\n",
            "රය [364, 282, 401, 294] -100\n",
            "අනුව [409, 282, 446, 294] O\n",
            "සකස් [454, 282, 496, 294] O\n",
            "කළ [502, 282, 529, 294] O\n",
            "යුතු [537, 282, 562, 294] O\n",
            "ය [570, 282, 580, 294] O\n",
            " [584, 282, 585, 294] O\n",
            ". [584, 282, 585, 294] -100\n",
            "අධ් [414, 122, 482, 133] O\n",
            "යාපන [414, 122, 482, 133] -100\n",
            "අමාත් [490, 122, 583, 133] O\n",
            "යාංශය [490, 122, 583, 133] -100\n",
            "2023 [350, 145, 396, 161] B-HEADER\n",
            "වර්ෂ [412, 146, 495, 161] I-HEADER\n",
            "යේ [412, 146, 495, 161] -100\n",
            "රජයේ [493, 147, 556, 162] I-HEADER\n",
            "පාසල් [570, 147, 651, 162] I-HEADER\n",
            "වල [570, 147, 651, 162] -100\n",
            "පළමු [224, 167, 307, 185] I-HEADER\n",
            "වන [224, 167, 307, 185] -100\n",
            "ශ් [334, 167, 403, 185] I-HEADER\n",
            "රේ [334, 167, 403, 185] -100\n",
            "ණිය [334, 167, 403, 185] -100\n",
            "ට [334, 167, 403, 185] -100\n",
            "ළමයින් [415, 167, 482, 185] I-HEADER\n",
            "ඇතුළත් [491, 167, 564, 185] I-HEADER\n",
            "කිරීම [583, 167, 623, 185] I-HEADER\n",
            "පිළිබඳ [632, 167, 695, 185] I-HEADER\n",
            "උපදෙස් [705, 167, 774, 185] I-HEADER\n",
            "2.2 [106, 520, 131, 527] B-QUESTION\n",
            "02. [58, 460, 78, 475] B-HEADER\n",
            "ළමය [87, 460, 128, 474] I-HEADER\n",
            "ා [87, 460, 128, 474] -100\n",
            "පිළිබඳ [135, 459, 179, 474] I-HEADER\n",
            "විස්තර [186, 459, 231, 474] I-HEADER\n",
            ": [237, 459, 242, 473] I-HEADER\n",
            "2.1 [106, 485, 129, 492] B-QUESTION\n",
            "2.3 [106, 554, 129, 562] B-QUESTION\n",
            "2023 [188, 325, 228, 338] B-QUESTION\n",
            "වර්ෂ [236, 325, 295, 338] I-QUESTION\n",
            "යේ [236, 325, 295, 338] -100\n",
            "දී [302, 325, 310, 338] I-QUESTION\n",
            "( [78, 374, 84, 389] O\n",
            "ළමය [88, 374, 149, 389] O\n",
            "ාගේ [88, 374, 149, 389] -100\n",
            "උප [156, 374, 225, 389] O\n",
            "් [156, 374, 225, 389] -100\n",
            "පැ [156, 374, 225, 389] -100\n",
            "න්න [156, 374, 225, 389] -100\n",
            "සහතික [232, 374, 307, 389] O\n",
            "යේ [232, 374, 307, 389] -100\n",
            "පිට [313, 374, 374, 389] O\n",
            "පත [313, 374, 374, 389] -100\n",
            "ක් [313, 374, 374, 389] -100\n",
            "හා [380, 374, 394, 389] O\n",
            "තමා [402, 374, 431, 389] O\n",
            "ඉල්ල [437, 374, 485, 389] O\n",
            "ුම් [437, 374, 485, 389] -100\n",
            "කරනු [493, 374, 531, 389] O\n",
            "ලබන [538, 374, 575, 389] O\n",
            "ග [583, 374, 623, 389] O\n",
            "ණය [583, 374, 623, 389] -100\n",
            "යටතේ [630, 374, 663, 389] O\n",
            " [665, 374, 681, 389] O\n",
            ", [665, 374, 681, 389] -100\n",
            "අදාළ [688, 374, 723, 389] O\n",
            "වන [730, 374, 753, 389] O\n",
            "සියලු [761, 374, 796, 389] O\n",
            "ම [803, 374, 813, 389] O\n",
            "ලිපි [820, 374, 842, 389] O\n",
            "ලේ [849, 374, 923, 389] O\n",
            "ඛ [849, 374, 923, 389] -100\n",
            "න [849, 374, 923, 389] -100\n",
            "වල [849, 374, 923, 389] -100\n",
            "පිටපත් [243, 389, 289, 401] O\n",
            " [290, 389, 293, 401] O\n",
            ", [290, 389, 293, 401] -100\n",
            "දි [300, 389, 345, 401] O\n",
            "ව් [300, 389, 345, 401] -100\n",
            "රු [300, 389, 345, 401] -100\n",
            "ම් [300, 389, 345, 401] -100\n",
            "ප් [352, 389, 422, 401] O\n",
            "රකාශ [352, 389, 422, 401] -100\n",
            "යක් [352, 389, 422, 401] -100\n",
            "මඟින් [428, 389, 468, 401] O\n",
            "සහතික [473, 389, 523, 401] O\n",
            "කර [531, 389, 554, 401] O\n",
            "මෙය [560, 389, 605, 401] O\n",
            "ට [560, 389, 605, 401] -100\n",
            "අම [613, 389, 656, 401] O\n",
            "ුණා [613, 389, 656, 401] -100\n",
            "එ [663, 389, 696, 401] O\n",
            "විය [663, 389, 696, 401] -100\n",
            "යුතු [703, 389, 726, 401] O\n",
            "ය [733, 389, 742, 401] O\n",
            " [746, 389, 746, 401] O\n",
            ". [746, 389, 746, 401] -100\n",
            ") [751, 389, 752, 401] O\n",
            "01. [58, 415, 79, 430] B-QUESTION\n",
            "ඉල්ල [88, 415, 136, 430] I-QUESTION\n",
            "ුම් [88, 415, 136, 430] -100\n",
            "කරන [144, 415, 182, 430] I-QUESTION\n",
            "ග [189, 415, 229, 430] I-QUESTION\n",
            "ණය [189, 415, 229, 430] -100\n",
            ": [236, 415, 241, 430] I-QUESTION\n",
            "( [93, 432, 95, 445] O\n",
            "ග [99, 432, 128, 445] O\n",
            "ණ [99, 432, 128, 445] -100\n",
            "කිහිපයක [135, 432, 209, 445] O\n",
            "ට [135, 432, 209, 445] -100\n",
            "අයත් [216, 433, 252, 446] O\n",
            "නම් [257, 433, 282, 446] O\n",
            "වෙන [289, 433, 324, 446] O\n",
            "වෙන [331, 433, 367, 446] O\n",
            "ම [373, 433, 383, 446] O\n",
            "ඉල්ල [390, 433, 438, 447] O\n",
            "ුම් [390, 433, 438, 447] -100\n",
            "කළ [445, 434, 471, 447] O\n",
            "යුතු [478, 434, 501, 447] O\n",
            "ය [508, 434, 518, 447] O\n",
            " [521, 434, 522, 447] O\n",
            ". [521, 434, 522, 447] -100\n",
            ") [526, 434, 529, 447] O\n",
            "3.1 [99, 740, 120, 748] B-QUESTION\n",
            "කො [405, 317, 409, 329] B-ANSWER\n",
            "/ [410, 317, 414, 328] I-ANSWER\n",
            " [422, 317, 477, 328] I-ANSWER\n",
            "රාජ [422, 317, 477, 328] -100\n",
            "ක [422, 317, 477, 328] -100\n",
            "ීය [422, 317, 477, 328] -100\n",
            "පළමු [299, 342, 365, 354] I-QUESTION\n",
            "වන [299, 342, 365, 354] -100\n",
            "ශ් [373, 342, 441, 354] I-QUESTION\n",
            "රේ [373, 342, 441, 354] -100\n",
            "ණිය [373, 342, 441, 354] -100\n",
            "ට [373, 342, 441, 354] -100\n",
            "ඇතුළත් [449, 342, 509, 354] I-QUESTION\n",
            "කිරීම [515, 342, 553, 354] I-QUESTION\n",
            "සඳහා [561, 342, 603, 354] I-QUESTION\n",
            "අය [610, 342, 654, 354] I-QUESTION\n",
            "දුම් [610, 342, 654, 354] -100\n",
            "පත් [662, 342, 699, 354] I-QUESTION\n",
            "රය [662, 342, 699, 354] -100\n",
            "2.4 [108, 592, 129, 607] B-QUESTION\n",
            "ස් [153, 592, 176, 607] I-QUESTION\n",
            "ත් [153, 592, 176, 607] -100\n",
            "රී [153, 592, 176, 607] -100\n",
            "/ [178, 592, 182, 607] I-QUESTION\n",
            "පුරුෂ [189, 592, 224, 607] I-QUESTION\n",
            " [240, 592, 270, 607] I-QUESTION\n",
            "භාවය [240, 592, 270, 607] -100\n",
            ": [272, 592, 274, 607] I-QUESTION\n",
            "2.5 [107, 612, 131, 620] B-QUESTION\n",
            "ආගම [154, 610, 190, 623] I-QUESTION\n",
            ": [193, 610, 195, 622] I-QUESTION\n",
            "බෞද්ධ [244, 608, 294, 621] I-ANSWER\n",
            "2.6 [107, 630, 130, 638] B-QUESTION\n",
            "ඉගෙන [153, 629, 212, 642] I-QUESTION\n",
            "ුම් [153, 629, 212, 642] -100\n",
            "මාධ් [219, 629, 269, 641] I-QUESTION\n",
            "යය [219, 629, 269, 641] -100\n",
            "( [277, 629, 283, 641] I-QUESTION\n",
            "සිංහල [286, 629, 323, 641] I-QUESTION\n",
            "/ [325, 629, 329, 641] I-QUESTION\n",
            "දෙමළ [336, 629, 377, 641] I-QUESTION\n",
            ") [379, 629, 383, 641] I-QUESTION\n",
            "2. [107, 646, 128, 656] B-QUESTION\n",
            "7 [107, 646, 128, 656] -100\n",
            "2018 [314, 645, 350, 652] B-ANSWER\n",
            "උපන් [153, 646, 228, 660] B-QUESTION\n",
            "දින [153, 646, 228, 660] -100\n",
            "ය [153, 646, 228, 660] -100\n",
            ": [231, 646, 232, 660] I-QUESTION\n",
            "- [235, 646, 239, 660] I-QUESTION\n",
            "අවුරුද්ද [248, 646, 302, 660] I-QUESTION\n",
            ".. [306, 646, 313, 660] I-QUESTION\n",
            " [106, 665, 131, 673] B-QUESTION\n",
            "2.8 [106, 665, 131, 673] -100\n",
            "2023 [153, 663, 188, 676] I-QUESTION\n",
            "ජනවාරි [195, 663, 246, 676] I-QUESTION\n",
            "මස [253, 663, 275, 676] I-QUESTION\n",
            "31 [282, 663, 297, 677] I-QUESTION\n",
            "දින [305, 663, 338, 677] I-QUESTION\n",
            "ට [305, 663, 338, 677] -100\n",
            "වයස [347, 663, 378, 677] I-QUESTION\n",
            ": [383, 663, 388, 677] I-QUESTION\n",
            "03. [58, 699, 78, 713] B-HEADER\n",
            "අය [87, 698, 158, 713] I-HEADER\n",
            "දුම් [87, 698, 158, 713] -100\n",
            "කරු [87, 698, 158, 713] -100\n",
            "පිළිබඳ [165, 698, 209, 712] I-HEADER\n",
            "විස්තර [216, 697, 261, 712] I-HEADER\n",
            ": [266, 698, 271, 712] I-HEADER\n",
            "නිවේදනය [457, 38, 540, 51] O\n",
            "සම්පූර්ණ [154, 483, 215, 498] I-QUESTION\n",
            "නම [228, 482, 246, 496] I-QUESTION\n",
            ": [250, 482, 253, 496] I-QUESTION\n",
            "- [257, 482, 257, 496] I-QUESTION\n",
            "මහ [284, 482, 334, 494] B-ANSWER\n",
            "ේ [284, 482, 334, 494] -100\n",
            "න් [284, 482, 334, 494] -100\n",
            "ඉ [340, 482, 385, 494] I-ANSWER\n",
            "දුර [340, 482, 385, 494] -100\n",
            "ංග [340, 482, 385, 494] -100\n",
            " [393, 482, 439, 494] I-ANSWER\n",
            "ගම [393, 482, 439, 494] -100\n",
            "ගේ [393, 482, 439, 494] -100\n",
            " [153, 499, 215, 511] O\n",
            "වාස [153, 499, 215, 511] -100\n",
            "ගම [153, 499, 215, 511] -100\n",
            "ට [153, 499, 215, 511] -100\n",
            " [223, 500, 261, 512] O\n",
            "යට [223, 500, 261, 512] -100\n",
            "ින් [223, 500, 261, 512] -100\n",
            "ඉ [267, 501, 302, 512] O\n",
            "රක් [267, 501, 302, 512] -100\n",
            "අ [308, 501, 357, 513] O\n",
            "ඳි [308, 501, 357, 513] -100\n",
            "න්න [308, 501, 357, 513] -100\n",
            " [360, 501, 361, 513] O\n",
            ". [360, 501, 361, 513] -100\n",
            ") [365, 501, 367, 513] O\n",
            "මුල [153, 518, 207, 531] I-QUESTION\n",
            "කුරු [153, 518, 207, 531] -100\n",
            "සමඟ [214, 518, 249, 531] I-QUESTION\n",
            "නම [256, 518, 281, 531] I-QUESTION\n",
            "( [297, 518, 305, 531] I-QUESTION\n",
            "සිංහල [308, 518, 373, 531] I-QUESTION\n",
            "ෙන් [308, 518, 373, 531] -100\n",
            ") [377, 518, 381, 531] I-QUESTION\n",
            ": [385, 518, 390, 531] I-QUESTION\n",
            "- [394, 518, 395, 531] I-QUESTION\n",
            "එ [428, 519, 448, 531] B-ANSWER\n",
            "ම් [428, 519, 448, 531] -100\n",
            " [451, 519, 452, 530] I-ANSWER\n",
            ". [451, 519, 452, 530] -100\n",
            "අයි [460, 519, 481, 530] I-ANSWER\n",
            " [483, 519, 485, 529] I-ANSWER\n",
            ". [483, 519, 485, 529] -100\n",
            " [492, 518, 539, 530] I-ANSWER\n",
            "ගම [492, 518, 539, 530] -100\n",
            "ගේ [492, 518, 539, 530] -100\n",
            "( [157, 537, 159, 550] O\n",
            "අග [162, 537, 194, 549] O\n",
            "ට [162, 537, 194, 549] -100\n",
            "යෙද [201, 537, 256, 549] O\n",
            "ෙන [201, 537, 256, 549] -100\n",
            "එක් [263, 536, 288, 549] O\n",
            "නම [294, 536, 335, 549] O\n",
            "ක් [294, 536, 335, 549] -100\n",
            "පමණක් [340, 536, 396, 549] O\n",
            "ලියන්න [402, 536, 460, 548] O\n",
            " [460, 536, 460, 548] O\n",
            ". [460, 536, 460, 548] -100\n",
            "උදා [468, 536, 492, 548] O\n",
            "- [498, 535, 572, 548] O\n",
            "බී [498, 535, 572, 548] -100\n",
            ". [498, 535, 572, 548] -100\n",
            "එ [498, 535, 572, 548] -100\n",
            "ස් [498, 535, 572, 548] -100\n",
            ". [498, 535, 572, 548] -100\n",
            "එ [498, 535, 572, 548] -100\n",
            "ස් [498, 535, 572, 548] -100\n",
            " [573, 535, 574, 548] O\n",
            ". [573, 535, 574, 548] -100\n",
            "පී [582, 535, 614, 548] O\n",
            "රි [582, 535, 614, 548] -100\n",
            "ස් [582, 535, 614, 548] -100\n",
            ") [622, 535, 622, 548] O\n",
            "මුල [153, 552, 207, 567] I-QUESTION\n",
            "කුරු [153, 552, 207, 567] -100\n",
            "සමඟ [213, 552, 248, 566] I-QUESTION\n",
            "නම [255, 552, 280, 566] I-QUESTION\n",
            "( [298, 552, 304, 566] I-QUESTION\n",
            "ඉංග් [306, 552, 382, 566] I-QUESTION\n",
            "රීසි [306, 552, 382, 566] -100\n",
            "යෙන් [306, 552, 382, 566] -100\n",
            ") [386, 552, 390, 566] I-QUESTION\n",
            ": [400, 552, 405, 566] I-QUESTION\n",
            "- [409, 552, 410, 566] I-QUESTION\n",
            "M [435, 552, 453, 565] B-ANSWER\n",
            ". [435, 552, 453, 565] -100\n",
            "I [461, 552, 469, 565] I-ANSWER\n",
            ". [461, 552, 469, 565] -100\n",
            "Gam [475, 553, 546, 565] I-ANSWER\n",
            "age [475, 553, 546, 565] -100\n",
            "( [157, 570, 159, 585] O\n",
            "අග [162, 570, 194, 585] O\n",
            "ට [162, 570, 194, 585] -100\n",
            "යෙද [201, 570, 256, 585] O\n",
            "ෙන [201, 570, 256, 585] -100\n",
            "එක් [263, 570, 288, 585] O\n",
            "නම [293, 570, 335, 585] O\n",
            "ක් [293, 570, 335, 585] -100\n",
            "පමණක් [340, 569, 396, 584] O\n",
            "ලියන්න [402, 569, 456, 584] O\n",
            " [459, 569, 460, 584] O\n",
            ". [459, 569, 460, 584] -100\n",
            "උදා [468, 569, 492, 584] O\n",
            "- [498, 569, 502, 584] O\n",
            "B [508, 569, 544, 584] O\n",
            ". [508, 569, 544, 584] -100\n",
            "S [508, 569, 544, 584] -100\n",
            ". [508, 569, 544, 584] -100\n",
            "S [508, 569, 544, 584] -100\n",
            ". [508, 569, 544, 584] -100\n",
            "PE [553, 569, 594, 584] O\n",
            "IRI [553, 569, 594, 584] -100\n",
            "S [553, 569, 594, 584] -100\n",
            ") [598, 569, 603, 584] O\n",
            "පුරුෂ [315, 592, 351, 603] B-ANSWER\n",
            "3.3 [99, 785, 120, 793] B-QUESTION\n",
            "මුල [146, 784, 198, 797] I-QUESTION\n",
            "කුරු [146, 784, 198, 797] -100\n",
            "සමඟ [206, 784, 240, 796] I-QUESTION\n",
            "නම [247, 783, 272, 795] I-QUESTION\n",
            ": [275, 783, 276, 794] I-QUESTION\n",
            "- [280, 783, 284, 794] I-QUESTION\n",
            " [286, 783, 286, 794] I-QUESTION\n",
            ". [286, 783, 286, 794] -100\n",
            "අය [261, 724, 331, 736] B-HEADER\n",
            "දුම් [261, 724, 331, 736] -100\n",
            "කරු [261, 724, 331, 736] -100\n",
            "සම්පූර්ණ [151, 737, 211, 753] I-QUESTION\n",
            "නම [218, 736, 243, 752] I-QUESTION\n",
            ": [246, 737, 247, 751] I-QUESTION\n",
            "- [250, 736, 267, 751] I-QUESTION\n",
            "... [250, 736, 267, 751] -100\n",
            "අ [280, 735, 316, 750] B-ANSWER\n",
            "කි [280, 735, 316, 750] -100\n",
            "ල [280, 735, 316, 750] -100\n",
            "ඉ [327, 735, 370, 749] I-ANSWER\n",
            "දුර [327, 735, 370, 749] -100\n",
            "ංග [327, 735, 370, 749] -100\n",
            " [373, 734, 421, 749] I-ANSWER\n",
            "ගම [373, 734, 421, 749] -100\n",
            "ගේ [373, 734, 421, 749] -100\n",
            "සිංහල [423, 628, 466, 638] B-ANSWER\n",
            "11 [436, 643, 454, 652] I-ANSWER\n",
            "මාස [370, 647, 408, 656] I-QUESTION\n",
            "ය [370, 647, 408, 656] -100\n",
            "අවුරුදු [414, 666, 457, 676] I-QUESTION\n",
            "A [318, 780, 333, 790] B-ANSWER\n",
            ". [318, 780, 333, 790] -100\n",
            "I [344, 780, 351, 790] I-ANSWER\n",
            ". [344, 780, 351, 790] -100\n",
            " [359, 780, 406, 790] I-ANSWER\n",
            "ගම [359, 780, 406, 790] -100\n",
            "ගේ [359, 780, 406, 790] -100\n",
            "ජාතික [145, 813, 188, 831] B-QUESTION\n",
            "හැ [190, 814, 273, 832] I-QUESTION\n",
            "ඳු [190, 814, 273, 832] -100\n",
            "නු [190, 814, 273, 832] -100\n",
            "ම් [190, 814, 273, 832] -100\n",
            "පත් [190, 814, 273, 832] -100\n",
            "අංක [277, 815, 322, 833] I-QUESTION\n",
            "ය [277, 815, 322, 833] -100\n",
            ": [323, 815, 325, 834] I-QUESTION\n",
            "999 [133, 827, 232, 836] B-ANSWER\n",
            "85 [133, 827, 232, 836] -100\n",
            "11 [133, 827, 232, 836] -100\n",
            "23 [133, 827, 232, 836] -100\n",
            "V [133, 827, 232, 836] -100\n",
            "ඔව් [303, 842, 323, 850] B-ANSWER\n",
            "( [307, 700, 310, 712] O\n",
            "මව [314, 700, 335, 712] O\n",
            "/ [338, 700, 345, 712] O\n",
            "පියා [352, 700, 380, 712] O\n",
            "/ [381, 700, 389, 712] O\n",
            "නි [393, 700, 472, 712] O\n",
            "ත් [393, 700, 472, 712] -100\n",
            "යනු [393, 700, 472, 712] -100\n",
            "කූල [393, 700, 472, 712] -100\n",
            "භාර [479, 700, 531, 713] O\n",
            "කරු [479, 700, 531, 713] -100\n",
            ") [536, 700, 542, 713] O\n",
            "4 [481, 662, 492, 670] O\n",
            "3.5 [98, 815, 121, 823] B-QUESTION\n",
            " [99, 842, 120, 863] B-QUESTION\n",
            "3.7 [99, 842, 120, 863] -100\n",
            "ශ් [145, 842, 155, 863] I-QUESTION\n",
            "රී [145, 842, 155, 863] -100\n",
            "ලාංකික [166, 843, 253, 864] I-QUESTION\n",
            "යෙක් [166, 843, 253, 864] -100\n",
            "- [276, 843, 285, 865] I-QUESTION\n",
            " [99, 860, 122, 868] B-QUESTION\n",
            "3.9 [99, 860, 122, 868] -100\n",
            "ආගම [145, 858, 182, 874] I-QUESTION\n",
            "......... [186, 855, 224, 871] O\n",
            "බෞද්ධ [229, 852, 282, 869] B-ANSWER\n",
            "3. [99, 888, 127, 904] B-QUESTION\n",
            "11 [99, 888, 127, 904] -100\n",
            "</s> [145, 888, 177, 903] I-QUESTION\n"
          ]
        }
      ],
      "source": [
        "for id, box, label in zip(example[\"input_ids\"], example[\"bbox\"], example[\"labels\"]):\n",
        "  if label != -100:\n",
        "    print(tokenizer.decode([id]), box, id2label[label])\n",
        "  else:\n",
        "    print(tokenizer.decode([id]), box, -100)"
      ]
    },
    {
      "cell_type": "markdown",
      "metadata": {
        "id": "y9eDcNDX92_K"
      },
      "source": [
        "# Define PyTorch DataLoader"
      ]
    },
    {
      "cell_type": "code",
      "execution_count": null,
      "metadata": {
        "id": "_wcV_X_X8var"
      },
      "outputs": [],
      "source": [
        "from torch.utils.data import DataLoader\n",
        "\n",
        "def collate_fn(features):\n",
        "  boxes = [feature[\"bbox\"] for feature in features]\n",
        "  labels = [feature[\"labels\"] for feature in features]\n",
        "  # use tokenizer to pad input_ids\n",
        "  batch = tokenizer.pad(features, padding=\"max_length\", max_length=MAX_SEQ_LENGTH)\n",
        "\n",
        "  sequence_length = torch.tensor(batch[\"input_ids\"]).shape[1]\n",
        "  batch[\"labels\"] = [labels_example + [-100] * (sequence_length - len(labels_example)) for labels_example in labels]\n",
        "  batch[\"bbox\"] = [boxes_example + [[0, 0, 0, 0]] * (sequence_length - len(boxes_example)) for boxes_example in boxes]\n",
        "\n",
        "  # convert to PyTorch\n",
        "  # batch = {k: torch.tensor(v, dtype=torch.int64) if isinstance(v[0], list) else v for k, v in batch.items()}\n",
        "  batch = {k: torch.tensor(v) for k, v in batch.items()}\n",
        "\n",
        "  return batch\n",
        "\n",
        "train_dataloader = DataLoader(train_dataset, batch_size=2, shuffle=True, collate_fn=collate_fn)\n",
        "eval_dataloader = DataLoader(eval_dataset, batch_size=2, shuffle=False, collate_fn=collate_fn)"
      ]
    },
    {
      "cell_type": "code",
      "execution_count": null,
      "metadata": {
        "id": "RuvQ3Mdh-SCO",
        "colab": {
          "base_uri": "https://localhost:8080/"
        },
        "outputId": "641bf823-ebdf-4f47-8c8a-e4a2b960f5f2"
      },
      "outputs": [
        {
          "output_type": "stream",
          "name": "stderr",
          "text": [
            "You're using a XLMRobertaTokenizerFast tokenizer. Please note that with a fast tokenizer, using the `__call__` method is faster than using a method to encode the text followed by a call to the `pad` method to get a padded encoding.\n"
          ]
        }
      ],
      "source": [
        "batch = next(iter(train_dataloader))"
      ]
    },
    {
      "cell_type": "code",
      "execution_count": null,
      "metadata": {
        "colab": {
          "base_uri": "https://localhost:8080/"
        },
        "id": "8gvf2scF-Tk2",
        "outputId": "3e81cdeb-a445-4c33-a1d9-83008ea97e10"
      },
      "outputs": [
        {
          "output_type": "stream",
          "name": "stdout",
          "text": [
            "input_ids torch.Size([2, 512])\n",
            "attention_mask torch.Size([2, 512])\n",
            "bbox torch.Size([2, 512, 4])\n",
            "labels torch.Size([2, 512])\n"
          ]
        }
      ],
      "source": [
        "for k,v in batch.items():\n",
        "  print(k,v.shape)"
      ]
    },
    {
      "cell_type": "code",
      "execution_count": null,
      "metadata": {
        "colab": {
          "base_uri": "https://localhost:8080/"
        },
        "id": "HrUSyMnR_4Oz",
        "outputId": "bd21605a-7bc8-4628-d2aa-d158145ad613"
      },
      "outputs": [
        {
          "output_type": "execute_result",
          "data": {
            "text/plain": [
              "'<s> 2023 වර්ෂයේ දී රජයේ පාසල්වල පළමුවන ශ් රේණියට තම දරුවන් ඇතුළත් කිරීමට බලාපොරොත්තු වන දෙමාපියන් / නිත් යනුකූල භාරකරුවන් මෙම නිවේදනයේ දැක්වෙන උපදෙස් අනුව හා ලබා දී ඇති ආකෘති පත් රයට අනුව සකස් කළ අයදුම්පත් තමන්ට අදාළ වන පාසල්වල ප් රධානීන් වෙත 2022 ජුලි 16 ට ප් රථම ලැබෙන සේ ලියාපදිංචි තැපෑලෙන් ඉදිරිපත් කළ යුතු වේ. සියලු ම සුදුසුකම් සපුරාලිය යුත්තේ 2022 ජූනි 30 දිනට වලංගු වන පරිදිය. අයදුම්පත් පහත දැක්වෙන ආදර්ශ ආකෘති පත් රය අනුව සකස් කළ යුතු ය. අධ් යාපන අමාත් යාංශය 2023 වර්ෂයේ රජයේ පාසල්වල පළමුවන ශ් රේණියට ළමයින් ඇතුළත් කිරීම පිළිබඳ උපදෙස් 2.2 02. ළමයා පිළිබඳ විස්තර : 2.1 2.3 2023 වර්ෂයේ දී ( ළමයාගේ උප්පැන්න සහතිකයේ පිටපතක් හා තමා ඉල්ලුම් කරනු ලබන ගණය යටතේ, අදාළ වන සියලු ම ලිපි ලේඛනවල පිටපත්, දිව්රුම් ප් රකාශයක් මඟින් සහතික කර මෙයට අමුණා එවිය යුතු ය. ) 01. ඉල්ලුම් කරන ගණය : ( ගණ කිහිපයකට අයත් නම් වෙන වෙන ම ඉල්ලුම් කළ යුතු ය. ) 3.1 කො / රාජකීය පළමුවන ශ් රේණියට ඇතුළත් කිරීම සඳහා අයදුම් පත් රය 2.4 ස්ත් රී / පුරුෂ භාවය : 2.5 ආගම : බෞද්ධ 2.6 ඉගෙනුම් මාධ් යය ( සිංහල / දෙමළ ) 2.7 2018 උපන්දිනය : - අවුරුද්ද.. 2.8 2023 ජනවාරි මස 31 දිනට වයස : 03. අයදුම්කරු පිළිබඳ විස්තර : නිවේදනය සම්පූර්ණ නම : - මහේන් ඉදුරංග ගමගේ වාසගමට යටින් ඉරක් අඳින්න. ) මුලකුරු සමඟ නම ( සිංහලෙන් ) : - එම්. අයි. ගමගේ ( අගට යෙදෙන එක් නමක් පමණක් ලියන්න. උදා -බී.එස්.එස්. පීරිස් ) මුලකුරු සමඟ නම ( ඉංග් රීසියෙන් ) : - M. I. Gamage ( අගට යෙදෙන එක් නමක් පමණක් ලියන්න. උදා - B.S.S. PEIRIS ) පුරුෂ 3.3 මුලකුරු සමඟ නම : -. අයදුම්කරු සම්පූර්ණ නම : -... අකිල ඉදුරංග ගමගේ සිංහල 11 මාසය අවුරුදු A. I. ගමගේ ජාතික හැඳුනුම්පත් අංකය : 999851123V ඔව් ( මව / පියා / නිත් යනුකූල භාරකරු ) 4 3.5 3.7 ශ් රී ලාංකිකයෙක් - 3.9 ආගම......... බෞද්ධ 3.11</s>'"
            ],
            "application/vnd.google.colaboratory.intrinsic+json": {
              "type": "string"
            }
          },
          "metadata": {},
          "execution_count": 21
        }
      ],
      "source": [
        "tokenizer.decode(batch[\"input_ids\"][0])"
      ]
    },
    {
      "cell_type": "code",
      "execution_count": null,
      "metadata": {
        "colab": {
          "base_uri": "https://localhost:8080/"
        },
        "id": "PtS3FUm_AJ-9",
        "outputId": "101bd70e-4ba4-400e-f516-54ef06597d20"
      },
      "outputs": [
        {
          "output_type": "stream",
          "name": "stdout",
          "text": [
            "<s> tensor([0, 0, 0, 0]) -100\n",
            "2023 tensor([108, 202, 146, 214]) O\n",
            "වර්ෂ tensor([159, 202, 219, 214]) O\n",
            "යේ tensor([159, 202, 219, 214]) -100\n",
            "දී tensor([230, 202, 237, 214]) O\n",
            "රජයේ tensor([250, 202, 298, 214]) O\n",
            "පාසල් tensor([309, 202, 380, 214]) O\n",
            "වල tensor([309, 202, 380, 214]) -100\n",
            "පළමු tensor([393, 202, 458, 214]) O\n",
            "වන tensor([393, 202, 458, 214]) -100\n",
            "ශ් tensor([471, 202, 540, 214]) O\n",
            "රේ tensor([471, 202, 540, 214]) -100\n",
            "ණිය tensor([471, 202, 540, 214]) -100\n",
            "ට tensor([471, 202, 540, 214]) -100\n",
            "තම tensor([553, 202, 578, 214]) O\n",
            "දරුවන් tensor([591, 202, 643, 214]) O\n",
            "ඇතුළත් tensor([655, 202, 715, 214]) O\n",
            "කිරීමට tensor([727, 202, 778, 214]) O\n",
            "බලාපොරොත්තු tensor([791, 202, 911, 214]) O\n",
            "වන tensor([924, 202, 949, 214]) O\n",
            "දෙ tensor([ 48, 218, 128, 231]) O\n",
            "මා tensor([ 48, 218, 128, 231]) -100\n",
            "පි tensor([ 48, 218, 128, 231]) -100\n",
            "යන් tensor([ 48, 218, 128, 231]) -100\n",
            "/ tensor([128, 218, 136, 231]) O\n",
            "නි tensor([139, 218, 222, 231]) O\n",
            "ත් tensor([139, 218, 222, 231]) -100\n",
            "යනු tensor([139, 218, 222, 231]) -100\n",
            "කූල tensor([139, 218, 222, 231]) -100\n",
            "භාර tensor([232, 218, 323, 231]) O\n",
            "කරුවන් tensor([232, 218, 323, 231]) -100\n",
            "මෙම tensor([332, 218, 369, 231]) O\n",
            "නිවේදනය tensor([378, 218, 468, 231]) O\n",
            "ේ tensor([378, 218, 468, 231]) -100\n",
            "දැක් tensor([477, 218, 546, 231]) O\n",
            "වෙන tensor([477, 218, 546, 231]) -100\n",
            "උපදෙස් tensor([556, 218, 615, 231]) O\n",
            "අනුව tensor([623, 218, 661, 231]) O\n",
            "හා tensor([670, 218, 684, 231]) O\n",
            "ලබා tensor([697, 218, 728, 231]) O\n",
            "දී tensor([738, 218, 745, 231]) O\n",
            "ඇති tensor([754, 218, 783, 231]) O\n",
            "ආ tensor([792, 218, 845, 231]) O\n",
            "කෘති tensor([792, 218, 845, 231]) -100\n",
            "පත් tensor([854, 218, 903, 231]) O\n",
            "රය tensor([854, 218, 903, 231]) -100\n",
            "ට tensor([854, 218, 903, 231]) -100\n",
            "අනුව tensor([912, 218, 950, 231]) O\n",
            "සකස් tensor([ 48, 235,  90, 247]) O\n",
            "කළ tensor([100, 235, 128, 247]) O\n",
            "අය tensor([140, 235, 212, 247]) O\n",
            "දුම් tensor([140, 235, 212, 247]) -100\n",
            "පත් tensor([140, 235, 212, 247]) -100\n",
            "තමන්ට tensor([224, 235, 278, 247]) O\n",
            "අදාළ tensor([290, 235, 327, 247]) O\n",
            "වන tensor([340, 235, 365, 247]) O\n",
            "පාසල් tensor([377, 235, 448, 247]) O\n",
            "වල tensor([377, 235, 448, 247]) -100\n",
            "ප් tensor([460, 235, 524, 247]) O\n",
            "රධාන tensor([460, 235, 524, 247]) -100\n",
            "ීන් tensor([460, 235, 524, 247]) -100\n",
            "වෙත tensor([535, 235, 572, 247]) O\n",
            "2022 tensor([583, 235, 623, 247]) O\n",
            " tensor([635, 235, 659, 247]) O\n",
            "ජු tensor([635, 235, 659, 247]) -100\n",
            "ලි tensor([635, 235, 659, 247]) -100\n",
            "16 tensor([673, 235, 690, 247]) O\n",
            " tensor([702, 235, 712, 247]) O\n",
            "ට tensor([702, 235, 712, 247]) -100\n",
            "ප් tensor([724, 235, 759, 247]) O\n",
            "රථම tensor([724, 235, 759, 247]) -100\n",
            "ලැබෙන tensor([771, 235, 831, 247]) O\n",
            "සේ tensor([843, 235, 866, 247]) O\n",
            "ලියාපදිංචි tensor([879, 235, 950, 247]) O\n",
            " tensor([ 48, 251, 128, 266]) O\n",
            "තැපෑල tensor([ 48, 251, 128, 266]) -100\n",
            "ෙන් tensor([ 48, 251, 128, 266]) -100\n",
            "ඉදිරිපත් tensor([136, 251, 195, 266]) O\n",
            "කළ tensor([201, 251, 228, 266]) O\n",
            "යුතු tensor([236, 251, 261, 266]) O\n",
            "වේ tensor([269, 251, 290, 266]) O\n",
            " tensor([293, 251, 295, 266]) O\n",
            ". tensor([293, 251, 295, 266]) -100\n",
            "සියලු tensor([309, 251, 345, 266]) O\n",
            "ම tensor([362, 251, 368, 266]) O\n",
            "සුදුසු tensor([379, 251, 438, 266]) O\n",
            "කම් tensor([379, 251, 438, 266]) -100\n",
            "ස tensor([448, 251, 512, 266]) O\n",
            "පු tensor([448, 251, 512, 266]) -100\n",
            "රා tensor([448, 251, 512, 266]) -100\n",
            "ලිය tensor([448, 251, 512, 266]) -100\n",
            "යුත්තේ tensor([513, 251, 583, 266]) O\n",
            "2022 tensor([585, 251, 623, 266]) O\n",
            "ජ tensor([629, 251, 655, 266]) O\n",
            "ූ tensor([629, 251, 655, 266]) -100\n",
            "නි tensor([629, 251, 655, 266]) -100\n",
            "30 tensor([663, 251, 684, 266]) O\n",
            "දින tensor([688, 251, 727, 266]) O\n",
            "ට tensor([688, 251, 727, 266]) -100\n",
            "වල tensor([733, 251, 781, 266]) O\n",
            "ංග tensor([733, 251, 781, 266]) -100\n",
            "ු tensor([733, 251, 781, 266]) -100\n",
            "වන tensor([786, 251, 811, 266]) O\n",
            "පරිදි tensor([821, 251, 863, 266]) O\n",
            "ය tensor([821, 251, 863, 266]) -100\n",
            " tensor([866, 251, 871, 266]) O\n",
            ". tensor([866, 251, 871, 266]) -100\n",
            "අය tensor([ 48, 282, 120, 294]) O\n",
            "දුම් tensor([ 48, 282, 120, 294]) -100\n",
            "පත් tensor([ 48, 282, 120, 294]) -100\n",
            "පහත tensor([127, 282, 164, 294]) O\n",
            "දැක් tensor([172, 282, 241, 294]) O\n",
            "වෙන tensor([172, 282, 241, 294]) -100\n",
            "ආ tensor([248, 282, 297, 294]) O\n",
            "ද tensor([248, 282, 297, 294]) -100\n",
            "ර්ශ tensor([248, 282, 297, 294]) -100\n",
            "ආ tensor([304, 282, 356, 294]) O\n",
            "කෘති tensor([304, 282, 356, 294]) -100\n",
            "පත් tensor([364, 282, 401, 294]) O\n",
            "රය tensor([364, 282, 401, 294]) -100\n",
            "අනුව tensor([409, 282, 446, 294]) O\n",
            "සකස් tensor([454, 282, 496, 294]) O\n",
            "කළ tensor([502, 282, 529, 294]) O\n",
            "යුතු tensor([537, 282, 562, 294]) O\n",
            "ය tensor([570, 282, 580, 294]) O\n",
            " tensor([584, 282, 585, 294]) O\n",
            ". tensor([584, 282, 585, 294]) -100\n",
            "අධ් tensor([414, 122, 482, 133]) O\n",
            "යාපන tensor([414, 122, 482, 133]) -100\n",
            "අමාත් tensor([490, 122, 583, 133]) O\n",
            "යාංශය tensor([490, 122, 583, 133]) -100\n",
            "2023 tensor([350, 145, 396, 161]) B-HEADER\n",
            "වර්ෂ tensor([412, 146, 495, 161]) I-HEADER\n",
            "යේ tensor([412, 146, 495, 161]) -100\n",
            "රජයේ tensor([493, 147, 556, 162]) I-HEADER\n",
            "පාසල් tensor([570, 147, 651, 162]) I-HEADER\n",
            "වල tensor([570, 147, 651, 162]) -100\n",
            "පළමු tensor([224, 167, 307, 185]) I-HEADER\n",
            "වන tensor([224, 167, 307, 185]) -100\n",
            "ශ් tensor([334, 167, 403, 185]) I-HEADER\n",
            "රේ tensor([334, 167, 403, 185]) -100\n",
            "ණිය tensor([334, 167, 403, 185]) -100\n",
            "ට tensor([334, 167, 403, 185]) -100\n",
            "ළමයින් tensor([415, 167, 482, 185]) I-HEADER\n",
            "ඇතුළත් tensor([491, 167, 564, 185]) I-HEADER\n",
            "කිරීම tensor([583, 167, 623, 185]) I-HEADER\n",
            "පිළිබඳ tensor([632, 167, 695, 185]) I-HEADER\n",
            "උපදෙස් tensor([705, 167, 774, 185]) I-HEADER\n",
            "2.2 tensor([106, 520, 131, 527]) B-QUESTION\n",
            "02. tensor([ 58, 460,  78, 475]) B-HEADER\n",
            "ළමය tensor([ 87, 460, 128, 474]) I-HEADER\n",
            "ා tensor([ 87, 460, 128, 474]) -100\n",
            "පිළිබඳ tensor([135, 459, 179, 474]) I-HEADER\n",
            "විස්තර tensor([186, 459, 231, 474]) I-HEADER\n",
            ": tensor([237, 459, 242, 473]) I-HEADER\n",
            "2.1 tensor([106, 485, 129, 492]) B-QUESTION\n",
            "2.3 tensor([106, 554, 129, 562]) B-QUESTION\n",
            "2023 tensor([188, 325, 228, 338]) B-QUESTION\n",
            "වර්ෂ tensor([236, 325, 295, 338]) I-QUESTION\n",
            "යේ tensor([236, 325, 295, 338]) -100\n",
            "දී tensor([302, 325, 310, 338]) I-QUESTION\n",
            "( tensor([ 78, 374,  84, 389]) O\n",
            "ළමය tensor([ 88, 374, 149, 389]) O\n",
            "ාගේ tensor([ 88, 374, 149, 389]) -100\n",
            "උප tensor([156, 374, 225, 389]) O\n",
            "් tensor([156, 374, 225, 389]) -100\n",
            "පැ tensor([156, 374, 225, 389]) -100\n",
            "න්න tensor([156, 374, 225, 389]) -100\n",
            "සහතික tensor([232, 374, 307, 389]) O\n",
            "යේ tensor([232, 374, 307, 389]) -100\n",
            "පිට tensor([313, 374, 374, 389]) O\n",
            "පත tensor([313, 374, 374, 389]) -100\n",
            "ක් tensor([313, 374, 374, 389]) -100\n",
            "හා tensor([380, 374, 394, 389]) O\n",
            "තමා tensor([402, 374, 431, 389]) O\n",
            "ඉල්ල tensor([437, 374, 485, 389]) O\n",
            "ුම් tensor([437, 374, 485, 389]) -100\n",
            "කරනු tensor([493, 374, 531, 389]) O\n",
            "ලබන tensor([538, 374, 575, 389]) O\n",
            "ග tensor([583, 374, 623, 389]) O\n",
            "ණය tensor([583, 374, 623, 389]) -100\n",
            "යටතේ tensor([630, 374, 663, 389]) O\n",
            " tensor([665, 374, 681, 389]) O\n",
            ", tensor([665, 374, 681, 389]) -100\n",
            "අදාළ tensor([688, 374, 723, 389]) O\n",
            "වන tensor([730, 374, 753, 389]) O\n",
            "සියලු tensor([761, 374, 796, 389]) O\n",
            "ම tensor([803, 374, 813, 389]) O\n",
            "ලිපි tensor([820, 374, 842, 389]) O\n",
            "ලේ tensor([849, 374, 923, 389]) O\n",
            "ඛ tensor([849, 374, 923, 389]) -100\n",
            "න tensor([849, 374, 923, 389]) -100\n",
            "වල tensor([849, 374, 923, 389]) -100\n",
            "පිටපත් tensor([243, 389, 289, 401]) O\n",
            " tensor([290, 389, 293, 401]) O\n",
            ", tensor([290, 389, 293, 401]) -100\n",
            "දි tensor([300, 389, 345, 401]) O\n",
            "ව් tensor([300, 389, 345, 401]) -100\n",
            "රු tensor([300, 389, 345, 401]) -100\n",
            "ම් tensor([300, 389, 345, 401]) -100\n",
            "ප් tensor([352, 389, 422, 401]) O\n",
            "රකාශ tensor([352, 389, 422, 401]) -100\n",
            "යක් tensor([352, 389, 422, 401]) -100\n",
            "මඟින් tensor([428, 389, 468, 401]) O\n",
            "සහතික tensor([473, 389, 523, 401]) O\n",
            "කර tensor([531, 389, 554, 401]) O\n",
            "මෙය tensor([560, 389, 605, 401]) O\n",
            "ට tensor([560, 389, 605, 401]) -100\n",
            "අම tensor([613, 389, 656, 401]) O\n",
            "ුණා tensor([613, 389, 656, 401]) -100\n",
            "එ tensor([663, 389, 696, 401]) O\n",
            "විය tensor([663, 389, 696, 401]) -100\n",
            "යුතු tensor([703, 389, 726, 401]) O\n",
            "ය tensor([733, 389, 742, 401]) O\n",
            " tensor([746, 389, 746, 401]) O\n",
            ". tensor([746, 389, 746, 401]) -100\n",
            ") tensor([751, 389, 752, 401]) O\n",
            "01. tensor([ 58, 415,  79, 430]) B-QUESTION\n",
            "ඉල්ල tensor([ 88, 415, 136, 430]) I-QUESTION\n",
            "ුම් tensor([ 88, 415, 136, 430]) -100\n",
            "කරන tensor([144, 415, 182, 430]) I-QUESTION\n",
            "ග tensor([189, 415, 229, 430]) I-QUESTION\n",
            "ණය tensor([189, 415, 229, 430]) -100\n",
            ": tensor([236, 415, 241, 430]) I-QUESTION\n",
            "( tensor([ 93, 432,  95, 445]) O\n",
            "ග tensor([ 99, 432, 128, 445]) O\n",
            "ණ tensor([ 99, 432, 128, 445]) -100\n",
            "කිහිපයක tensor([135, 432, 209, 445]) O\n",
            "ට tensor([135, 432, 209, 445]) -100\n",
            "අයත් tensor([216, 433, 252, 446]) O\n",
            "නම් tensor([257, 433, 282, 446]) O\n",
            "වෙන tensor([289, 433, 324, 446]) O\n",
            "වෙන tensor([331, 433, 367, 446]) O\n",
            "ම tensor([373, 433, 383, 446]) O\n",
            "ඉල්ල tensor([390, 433, 438, 447]) O\n",
            "ුම් tensor([390, 433, 438, 447]) -100\n",
            "කළ tensor([445, 434, 471, 447]) O\n",
            "යුතු tensor([478, 434, 501, 447]) O\n",
            "ය tensor([508, 434, 518, 447]) O\n",
            " tensor([521, 434, 522, 447]) O\n",
            ". tensor([521, 434, 522, 447]) -100\n",
            ") tensor([526, 434, 529, 447]) O\n",
            "3.1 tensor([ 99, 740, 120, 748]) B-QUESTION\n",
            "කො tensor([405, 317, 409, 329]) B-ANSWER\n",
            "/ tensor([410, 317, 414, 328]) I-ANSWER\n",
            " tensor([422, 317, 477, 328]) I-ANSWER\n",
            "රාජ tensor([422, 317, 477, 328]) -100\n",
            "ක tensor([422, 317, 477, 328]) -100\n",
            "ීය tensor([422, 317, 477, 328]) -100\n",
            "පළමු tensor([299, 342, 365, 354]) I-QUESTION\n",
            "වන tensor([299, 342, 365, 354]) -100\n",
            "ශ් tensor([373, 342, 441, 354]) I-QUESTION\n",
            "රේ tensor([373, 342, 441, 354]) -100\n",
            "ණිය tensor([373, 342, 441, 354]) -100\n",
            "ට tensor([373, 342, 441, 354]) -100\n",
            "ඇතුළත් tensor([449, 342, 509, 354]) I-QUESTION\n",
            "කිරීම tensor([515, 342, 553, 354]) I-QUESTION\n",
            "සඳහා tensor([561, 342, 603, 354]) I-QUESTION\n",
            "අය tensor([610, 342, 654, 354]) I-QUESTION\n",
            "දුම් tensor([610, 342, 654, 354]) -100\n",
            "පත් tensor([662, 342, 699, 354]) I-QUESTION\n",
            "රය tensor([662, 342, 699, 354]) -100\n",
            "2.4 tensor([108, 592, 129, 607]) B-QUESTION\n",
            "ස් tensor([153, 592, 176, 607]) I-QUESTION\n",
            "ත් tensor([153, 592, 176, 607]) -100\n",
            "රී tensor([153, 592, 176, 607]) -100\n",
            "/ tensor([178, 592, 182, 607]) I-QUESTION\n",
            "පුරුෂ tensor([189, 592, 224, 607]) I-QUESTION\n",
            " tensor([240, 592, 270, 607]) I-QUESTION\n",
            "භාවය tensor([240, 592, 270, 607]) -100\n",
            ": tensor([272, 592, 274, 607]) I-QUESTION\n",
            "2.5 tensor([107, 612, 131, 620]) B-QUESTION\n",
            "ආගම tensor([154, 610, 190, 623]) I-QUESTION\n",
            ": tensor([193, 610, 195, 622]) I-QUESTION\n",
            "බෞද්ධ tensor([244, 608, 294, 621]) I-ANSWER\n",
            "2.6 tensor([107, 630, 130, 638]) B-QUESTION\n",
            "ඉගෙන tensor([153, 629, 212, 642]) I-QUESTION\n",
            "ුම් tensor([153, 629, 212, 642]) -100\n",
            "මාධ් tensor([219, 629, 269, 641]) I-QUESTION\n",
            "යය tensor([219, 629, 269, 641]) -100\n",
            "( tensor([277, 629, 283, 641]) I-QUESTION\n",
            "සිංහල tensor([286, 629, 323, 641]) I-QUESTION\n",
            "/ tensor([325, 629, 329, 641]) I-QUESTION\n",
            "දෙමළ tensor([336, 629, 377, 641]) I-QUESTION\n",
            ") tensor([379, 629, 383, 641]) I-QUESTION\n",
            "2. tensor([107, 646, 128, 656]) B-QUESTION\n",
            "7 tensor([107, 646, 128, 656]) -100\n",
            "2018 tensor([314, 645, 350, 652]) B-ANSWER\n",
            "උපන් tensor([153, 646, 228, 660]) B-QUESTION\n",
            "දින tensor([153, 646, 228, 660]) -100\n",
            "ය tensor([153, 646, 228, 660]) -100\n",
            ": tensor([231, 646, 232, 660]) I-QUESTION\n",
            "- tensor([235, 646, 239, 660]) I-QUESTION\n",
            "අවුරුද්ද tensor([248, 646, 302, 660]) I-QUESTION\n",
            ".. tensor([306, 646, 313, 660]) I-QUESTION\n",
            " tensor([106, 665, 131, 673]) B-QUESTION\n",
            "2.8 tensor([106, 665, 131, 673]) -100\n",
            "2023 tensor([153, 663, 188, 676]) I-QUESTION\n",
            "ජනවාරි tensor([195, 663, 246, 676]) I-QUESTION\n",
            "මස tensor([253, 663, 275, 676]) I-QUESTION\n",
            "31 tensor([282, 663, 297, 677]) I-QUESTION\n",
            "දින tensor([305, 663, 338, 677]) I-QUESTION\n",
            "ට tensor([305, 663, 338, 677]) -100\n",
            "වයස tensor([347, 663, 378, 677]) I-QUESTION\n",
            ": tensor([383, 663, 388, 677]) I-QUESTION\n",
            "03. tensor([ 58, 699,  78, 713]) B-HEADER\n",
            "අය tensor([ 87, 698, 158, 713]) I-HEADER\n",
            "දුම් tensor([ 87, 698, 158, 713]) -100\n",
            "කරු tensor([ 87, 698, 158, 713]) -100\n",
            "පිළිබඳ tensor([165, 698, 209, 712]) I-HEADER\n",
            "විස්තර tensor([216, 697, 261, 712]) I-HEADER\n",
            ": tensor([266, 698, 271, 712]) I-HEADER\n",
            "නිවේදනය tensor([457,  38, 540,  51]) O\n",
            "සම්පූර්ණ tensor([154, 483, 215, 498]) I-QUESTION\n",
            "නම tensor([228, 482, 246, 496]) I-QUESTION\n",
            ": tensor([250, 482, 253, 496]) I-QUESTION\n",
            "- tensor([257, 482, 257, 496]) I-QUESTION\n",
            "මහ tensor([284, 482, 334, 494]) B-ANSWER\n",
            "ේ tensor([284, 482, 334, 494]) -100\n",
            "න් tensor([284, 482, 334, 494]) -100\n",
            "ඉ tensor([340, 482, 385, 494]) I-ANSWER\n",
            "දුර tensor([340, 482, 385, 494]) -100\n",
            "ංග tensor([340, 482, 385, 494]) -100\n",
            " tensor([393, 482, 439, 494]) I-ANSWER\n",
            "ගම tensor([393, 482, 439, 494]) -100\n",
            "ගේ tensor([393, 482, 439, 494]) -100\n",
            " tensor([153, 499, 215, 511]) O\n",
            "වාස tensor([153, 499, 215, 511]) -100\n",
            "ගම tensor([153, 499, 215, 511]) -100\n",
            "ට tensor([153, 499, 215, 511]) -100\n",
            " tensor([223, 500, 261, 512]) O\n",
            "යට tensor([223, 500, 261, 512]) -100\n",
            "ින් tensor([223, 500, 261, 512]) -100\n",
            "ඉ tensor([267, 501, 302, 512]) O\n",
            "රක් tensor([267, 501, 302, 512]) -100\n",
            "අ tensor([308, 501, 357, 513]) O\n",
            "ඳි tensor([308, 501, 357, 513]) -100\n",
            "න්න tensor([308, 501, 357, 513]) -100\n",
            " tensor([360, 501, 361, 513]) O\n",
            ". tensor([360, 501, 361, 513]) -100\n",
            ") tensor([365, 501, 367, 513]) O\n",
            "මුල tensor([153, 518, 207, 531]) I-QUESTION\n",
            "කුරු tensor([153, 518, 207, 531]) -100\n",
            "සමඟ tensor([214, 518, 249, 531]) I-QUESTION\n",
            "නම tensor([256, 518, 281, 531]) I-QUESTION\n",
            "( tensor([297, 518, 305, 531]) I-QUESTION\n",
            "සිංහල tensor([308, 518, 373, 531]) I-QUESTION\n",
            "ෙන් tensor([308, 518, 373, 531]) -100\n",
            ") tensor([377, 518, 381, 531]) I-QUESTION\n",
            ": tensor([385, 518, 390, 531]) I-QUESTION\n",
            "- tensor([394, 518, 395, 531]) I-QUESTION\n",
            "එ tensor([428, 519, 448, 531]) B-ANSWER\n",
            "ම් tensor([428, 519, 448, 531]) -100\n",
            " tensor([451, 519, 452, 530]) I-ANSWER\n",
            ". tensor([451, 519, 452, 530]) -100\n",
            "අයි tensor([460, 519, 481, 530]) I-ANSWER\n",
            " tensor([483, 519, 485, 529]) I-ANSWER\n",
            ". tensor([483, 519, 485, 529]) -100\n",
            " tensor([492, 518, 539, 530]) I-ANSWER\n",
            "ගම tensor([492, 518, 539, 530]) -100\n",
            "ගේ tensor([492, 518, 539, 530]) -100\n",
            "( tensor([157, 537, 159, 550]) O\n",
            "අග tensor([162, 537, 194, 549]) O\n",
            "ට tensor([162, 537, 194, 549]) -100\n",
            "යෙද tensor([201, 537, 256, 549]) O\n",
            "ෙන tensor([201, 537, 256, 549]) -100\n",
            "එක් tensor([263, 536, 288, 549]) O\n",
            "නම tensor([294, 536, 335, 549]) O\n",
            "ක් tensor([294, 536, 335, 549]) -100\n",
            "පමණක් tensor([340, 536, 396, 549]) O\n",
            "ලියන්න tensor([402, 536, 460, 548]) O\n",
            " tensor([460, 536, 460, 548]) O\n",
            ". tensor([460, 536, 460, 548]) -100\n",
            "උදා tensor([468, 536, 492, 548]) O\n",
            "- tensor([498, 535, 572, 548]) O\n",
            "බී tensor([498, 535, 572, 548]) -100\n",
            ". tensor([498, 535, 572, 548]) -100\n",
            "එ tensor([498, 535, 572, 548]) -100\n",
            "ස් tensor([498, 535, 572, 548]) -100\n",
            ". tensor([498, 535, 572, 548]) -100\n",
            "එ tensor([498, 535, 572, 548]) -100\n",
            "ස් tensor([498, 535, 572, 548]) -100\n",
            " tensor([573, 535, 574, 548]) O\n",
            ". tensor([573, 535, 574, 548]) -100\n",
            "පී tensor([582, 535, 614, 548]) O\n",
            "රි tensor([582, 535, 614, 548]) -100\n",
            "ස් tensor([582, 535, 614, 548]) -100\n",
            ") tensor([622, 535, 622, 548]) O\n",
            "මුල tensor([153, 552, 207, 567]) I-QUESTION\n",
            "කුරු tensor([153, 552, 207, 567]) -100\n",
            "සමඟ tensor([213, 552, 248, 566]) I-QUESTION\n",
            "නම tensor([255, 552, 280, 566]) I-QUESTION\n",
            "( tensor([298, 552, 304, 566]) I-QUESTION\n",
            "ඉංග් tensor([306, 552, 382, 566]) I-QUESTION\n",
            "රීසි tensor([306, 552, 382, 566]) -100\n",
            "යෙන් tensor([306, 552, 382, 566]) -100\n",
            ") tensor([386, 552, 390, 566]) I-QUESTION\n",
            ": tensor([400, 552, 405, 566]) I-QUESTION\n",
            "- tensor([409, 552, 410, 566]) I-QUESTION\n",
            "M tensor([435, 552, 453, 565]) B-ANSWER\n",
            ". tensor([435, 552, 453, 565]) -100\n",
            "I tensor([461, 552, 469, 565]) I-ANSWER\n",
            ". tensor([461, 552, 469, 565]) -100\n",
            "Gam tensor([475, 553, 546, 565]) I-ANSWER\n",
            "age tensor([475, 553, 546, 565]) -100\n",
            "( tensor([157, 570, 159, 585]) O\n",
            "අග tensor([162, 570, 194, 585]) O\n",
            "ට tensor([162, 570, 194, 585]) -100\n",
            "යෙද tensor([201, 570, 256, 585]) O\n",
            "ෙන tensor([201, 570, 256, 585]) -100\n",
            "එක් tensor([263, 570, 288, 585]) O\n",
            "නම tensor([293, 570, 335, 585]) O\n",
            "ක් tensor([293, 570, 335, 585]) -100\n",
            "පමණක් tensor([340, 569, 396, 584]) O\n",
            "ලියන්න tensor([402, 569, 456, 584]) O\n",
            " tensor([459, 569, 460, 584]) O\n",
            ". tensor([459, 569, 460, 584]) -100\n",
            "උදා tensor([468, 569, 492, 584]) O\n",
            "- tensor([498, 569, 502, 584]) O\n",
            "B tensor([508, 569, 544, 584]) O\n",
            ". tensor([508, 569, 544, 584]) -100\n",
            "S tensor([508, 569, 544, 584]) -100\n",
            ". tensor([508, 569, 544, 584]) -100\n",
            "S tensor([508, 569, 544, 584]) -100\n",
            ". tensor([508, 569, 544, 584]) -100\n",
            "PE tensor([553, 569, 594, 584]) O\n",
            "IRI tensor([553, 569, 594, 584]) -100\n",
            "S tensor([553, 569, 594, 584]) -100\n",
            ") tensor([598, 569, 603, 584]) O\n",
            "පුරුෂ tensor([315, 592, 351, 603]) B-ANSWER\n",
            "3.3 tensor([ 99, 785, 120, 793]) B-QUESTION\n",
            "මුල tensor([146, 784, 198, 797]) I-QUESTION\n",
            "කුරු tensor([146, 784, 198, 797]) -100\n",
            "සමඟ tensor([206, 784, 240, 796]) I-QUESTION\n",
            "නම tensor([247, 783, 272, 795]) I-QUESTION\n",
            ": tensor([275, 783, 276, 794]) I-QUESTION\n",
            "- tensor([280, 783, 284, 794]) I-QUESTION\n",
            " tensor([286, 783, 286, 794]) I-QUESTION\n",
            ". tensor([286, 783, 286, 794]) -100\n",
            "අය tensor([261, 724, 331, 736]) B-HEADER\n",
            "දුම් tensor([261, 724, 331, 736]) -100\n",
            "කරු tensor([261, 724, 331, 736]) -100\n",
            "සම්පූර්ණ tensor([151, 737, 211, 753]) I-QUESTION\n",
            "නම tensor([218, 736, 243, 752]) I-QUESTION\n",
            ": tensor([246, 737, 247, 751]) I-QUESTION\n",
            "- tensor([250, 736, 267, 751]) I-QUESTION\n",
            "... tensor([250, 736, 267, 751]) -100\n",
            "අ tensor([280, 735, 316, 750]) B-ANSWER\n",
            "කි tensor([280, 735, 316, 750]) -100\n",
            "ල tensor([280, 735, 316, 750]) -100\n",
            "ඉ tensor([327, 735, 370, 749]) I-ANSWER\n",
            "දුර tensor([327, 735, 370, 749]) -100\n",
            "ංග tensor([327, 735, 370, 749]) -100\n",
            " tensor([373, 734, 421, 749]) I-ANSWER\n",
            "ගම tensor([373, 734, 421, 749]) -100\n",
            "ගේ tensor([373, 734, 421, 749]) -100\n",
            "සිංහල tensor([423, 628, 466, 638]) B-ANSWER\n",
            "11 tensor([436, 643, 454, 652]) I-ANSWER\n",
            "මාස tensor([370, 647, 408, 656]) I-QUESTION\n",
            "ය tensor([370, 647, 408, 656]) -100\n",
            "අවුරුදු tensor([414, 666, 457, 676]) I-QUESTION\n",
            "A tensor([318, 780, 333, 790]) B-ANSWER\n",
            ". tensor([318, 780, 333, 790]) -100\n",
            "I tensor([344, 780, 351, 790]) I-ANSWER\n",
            ". tensor([344, 780, 351, 790]) -100\n",
            " tensor([359, 780, 406, 790]) I-ANSWER\n",
            "ගම tensor([359, 780, 406, 790]) -100\n",
            "ගේ tensor([359, 780, 406, 790]) -100\n",
            "ජාතික tensor([145, 813, 188, 831]) B-QUESTION\n",
            "හැ tensor([190, 814, 273, 832]) I-QUESTION\n",
            "ඳු tensor([190, 814, 273, 832]) -100\n",
            "නු tensor([190, 814, 273, 832]) -100\n",
            "ම් tensor([190, 814, 273, 832]) -100\n",
            "පත් tensor([190, 814, 273, 832]) -100\n",
            "අංක tensor([277, 815, 322, 833]) I-QUESTION\n",
            "ය tensor([277, 815, 322, 833]) -100\n",
            ": tensor([323, 815, 325, 834]) I-QUESTION\n",
            "999 tensor([133, 827, 232, 836]) B-ANSWER\n",
            "85 tensor([133, 827, 232, 836]) -100\n",
            "11 tensor([133, 827, 232, 836]) -100\n",
            "23 tensor([133, 827, 232, 836]) -100\n",
            "V tensor([133, 827, 232, 836]) -100\n",
            "ඔව් tensor([303, 842, 323, 850]) B-ANSWER\n",
            "( tensor([307, 700, 310, 712]) O\n",
            "මව tensor([314, 700, 335, 712]) O\n",
            "/ tensor([338, 700, 345, 712]) O\n",
            "පියා tensor([352, 700, 380, 712]) O\n",
            "/ tensor([381, 700, 389, 712]) O\n",
            "නි tensor([393, 700, 472, 712]) O\n",
            "ත් tensor([393, 700, 472, 712]) -100\n",
            "යනු tensor([393, 700, 472, 712]) -100\n",
            "කූල tensor([393, 700, 472, 712]) -100\n",
            "භාර tensor([479, 700, 531, 713]) O\n",
            "කරු tensor([479, 700, 531, 713]) -100\n",
            ") tensor([536, 700, 542, 713]) O\n",
            "4 tensor([481, 662, 492, 670]) O\n",
            "3.5 tensor([ 98, 815, 121, 823]) B-QUESTION\n",
            " tensor([ 99, 842, 120, 863]) B-QUESTION\n",
            "3.7 tensor([ 99, 842, 120, 863]) -100\n",
            "ශ් tensor([145, 842, 155, 863]) I-QUESTION\n",
            "රී tensor([145, 842, 155, 863]) -100\n",
            "ලාංකික tensor([166, 843, 253, 864]) I-QUESTION\n",
            "යෙක් tensor([166, 843, 253, 864]) -100\n",
            "- tensor([276, 843, 285, 865]) I-QUESTION\n",
            " tensor([ 99, 860, 122, 868]) B-QUESTION\n",
            "3.9 tensor([ 99, 860, 122, 868]) -100\n",
            "ආගම tensor([145, 858, 182, 874]) I-QUESTION\n",
            "......... tensor([186, 855, 224, 871]) O\n",
            "බෞද්ධ tensor([229, 852, 282, 869]) B-ANSWER\n",
            "3. tensor([ 99, 888, 127, 904]) B-QUESTION\n",
            "11 tensor([ 99, 888, 127, 904]) -100\n",
            "</s> tensor([145, 888, 177, 903]) I-QUESTION\n"
          ]
        }
      ],
      "source": [
        "for id, box, label in zip(batch[\"input_ids\"][0], batch[\"bbox\"][0], batch[\"labels\"][0]):\n",
        "  if label.item() != -100:\n",
        "    print(tokenizer.decode([id]), box, id2label[label.item()])\n",
        "  else:\n",
        "    print(tokenizer.decode([id]), box, label.item())"
      ]
    },
    {
      "cell_type": "markdown",
      "metadata": {
        "id": "u-O6CIP1AhE6"
      },
      "source": [
        "# Define model"
      ]
    },
    {
      "cell_type": "code",
      "execution_count": null,
      "metadata": {
        "id": "D1bW1-ldAOHS"
      },
      "outputs": [],
      "source": [
        "from transformers import LiltForTokenClassification\n",
        "\n",
        "model = LiltForTokenClassification.from_pretrained(\"pierreguillou/lilt-xlm-roberta-base-finetuned-funsd-iob-original\", id2label=id2label, label2id=label2id, max_position_embeddings=MAX_SEQ_LENGTH+2, ignore_mismatched_sizes=True)"
      ]
    },
    {
      "cell_type": "markdown",
      "metadata": {
        "id": "UXJY2HJWHAw6"
      },
      "source": [
        "# Train the model in native PyTorch\n",
        "\n",
        "Uncomment the code below if you want to train the model just in native PyTorch."
      ]
    },
    {
      "cell_type": "code",
      "execution_count": null,
      "metadata": {
        "id": "sfYvjYPVHB3m"
      },
      "outputs": [],
      "source": [
        "# device = \"cuda\" if torch.cuda.is_available() else \"cpu\"\n",
        "# model.to(device)\n",
        "\n",
        "# optimizer = torch.optim.AdamW(model.parameters(), lr=5-5)\n",
        "\n",
        "# model.train()\n",
        "# for epoch in range(2):\n",
        "#   for batch in train_dataloader:\n",
        "#       # zero the parameter gradients\n",
        "#       optimizer.zero_grad()\n",
        "\n",
        "#       inputs = {k:v.to(device) for k,v in batch.items()}\n",
        "\n",
        "#       outputs = model(**inputs)\n",
        "\n",
        "#       loss = outputs.loss\n",
        "#       loss.backward()\n",
        "\n",
        "#       optimizer.step()"
      ]
    },
    {
      "cell_type": "markdown",
      "metadata": {
        "id": "Rf0nvl72BQsj"
      },
      "source": [
        "# Train the model using 🤗 Trainer\n",
        "\n",
        "We first define a compute_metrics function as well as TrainingArguments."
      ]
    },
    {
      "cell_type": "code",
      "execution_count": null,
      "metadata": {
        "id": "cOOB2b5HCfls"
      },
      "outputs": [],
      "source": [
        "import evaluate\n",
        "\n",
        "metric = evaluate.load(\"seqeval\")"
      ]
    },
    {
      "cell_type": "code",
      "execution_count": null,
      "metadata": {
        "id": "gLHg5-VYCfJ7"
      },
      "outputs": [],
      "source": [
        "import numpy as np\n",
        "from seqeval.metrics import classification_report\n",
        "\n",
        "return_entity_level_metrics = False\n",
        "\n",
        "def compute_metrics(p):\n",
        "    # global tp, tl\n",
        "    predictions, labels = p\n",
        "    predictions = np.argmax(predictions, axis=2)\n",
        "\n",
        "    # Remove ignored index (special tokens)\n",
        "    true_predictions = [\n",
        "        [label_list[p] for (p, l) in zip(prediction, label) if l != -100]\n",
        "        for prediction, label in zip(predictions, labels)\n",
        "    ]\n",
        "    true_labels = [\n",
        "        [label_list[l] for (p, l) in zip(prediction, label) if l != -100]\n",
        "        for prediction, label in zip(predictions, labels)\n",
        "    ]\n",
        "\n",
        "    # tl = true_labels\n",
        "    # tp = true_predictions\n",
        "\n",
        "    # print(tp[0])\n",
        "    # print(tl[0])\n",
        "\n",
        "    results = metric.compute(predictions=true_predictions, references=true_labels)\n",
        "    if return_entity_level_metrics:\n",
        "        # Unpack nested dictionaries\n",
        "        final_results = {}\n",
        "        for key, value in results.items():\n",
        "            if isinstance(value, dict):\n",
        "                for n, v in value.items():\n",
        "                    final_results[f\"{key}_{n}\"] = v\n",
        "            else:\n",
        "                final_results[key] = value\n",
        "        return final_results\n",
        "    else:\n",
        "        return {\n",
        "            \"precision\": results[\"overall_precision\"],\n",
        "            \"recall\": results[\"overall_recall\"],\n",
        "            \"f1\": results[\"overall_f1\"],\n",
        "            \"accuracy\": results[\"overall_accuracy\"],\n",
        "        }"
      ]
    },
    {
      "cell_type": "code",
      "execution_count": null,
      "metadata": {
        "id": "uXIqK1I7BQD2"
      },
      "outputs": [],
      "source": [
        "from transformers import TrainingArguments, Trainer\n",
        "\n",
        "training_args = TrainingArguments(output_dir=\"test\",\n",
        "                                  num_train_epochs=30,\n",
        "                                  learning_rate=5e-5,\n",
        "                                  evaluation_strategy=\"steps\",\n",
        "                                  eval_steps=100,\n",
        "                                  load_best_model_at_end=True,\n",
        "                                  metric_for_best_model=\"f1\")"
      ]
    },
    {
      "cell_type": "markdown",
      "metadata": {
        "id": "8zQveC41Jo_E"
      },
      "source": [
        "Next we define a custom Trainer which uses the DataLoaders we created above."
      ]
    },
    {
      "cell_type": "code",
      "execution_count": null,
      "metadata": {
        "id": "FWciWA4LBtrx"
      },
      "outputs": [],
      "source": [
        "from transformers.data.data_collator import default_data_collator\n",
        "\n",
        "class CustomTrainer(Trainer):\n",
        "  def get_train_dataloader(self):\n",
        "    return train_dataloader\n",
        "\n",
        "  def get_eval_dataloader(self, eval_dataset = None):\n",
        "    return eval_dataloader\n",
        "\n",
        "# Initialize our Trainer\n",
        "trainer = CustomTrainer(\n",
        "    model=model,\n",
        "    args=training_args,\n",
        "    train_dataset=train_dataset,\n",
        "    eval_dataset=eval_dataset,\n",
        "    tokenizer=tokenizer,\n",
        "    compute_metrics=compute_metrics,\n",
        ")"
      ]
    },
    {
      "cell_type": "code",
      "execution_count": null,
      "metadata": {
        "colab": {
          "base_uri": "https://localhost:8080/",
          "height": 110
        },
        "id": "rQup1rSjC5Vj",
        "outputId": "f644ef1e-e676-4c8d-80dd-e7da24e41e69"
      },
      "outputs": [
        {
          "output_type": "display_data",
          "data": {
            "text/plain": [
              "<IPython.core.display.HTML object>"
            ],
            "text/html": [
              "\n",
              "    <div>\n",
              "      \n",
              "      <progress value='30' max='30' style='width:300px; height:20px; vertical-align: middle;'></progress>\n",
              "      [30/30 00:12, Epoch 30/30]\n",
              "    </div>\n",
              "    <table border=\"1\" class=\"dataframe\">\n",
              "  <thead>\n",
              " <tr style=\"text-align: left;\">\n",
              "      <th>Step</th>\n",
              "      <th>Training Loss</th>\n",
              "      <th>Validation Loss</th>\n",
              "    </tr>\n",
              "  </thead>\n",
              "  <tbody>\n",
              "  </tbody>\n",
              "</table><p>"
            ]
          },
          "metadata": {}
        },
        {
          "output_type": "execute_result",
          "data": {
            "text/plain": [
              "TrainOutput(global_step=30, training_loss=0.34396692911783855, metrics={'train_runtime': 14.0378, 'train_samples_per_second': 4.274, 'train_steps_per_second': 2.137, 'total_flos': 16689767362560.0, 'train_loss': 0.34396692911783855, 'epoch': 30.0})"
            ]
          },
          "metadata": {},
          "execution_count": 29
        }
      ],
      "source": [
        "trainer.train()"
      ]
    },
    {
      "cell_type": "code",
      "source": [
        "if FUNSD_TRAINING:\n",
        "  OUTPUT_DIR = '/content/drive/MyDrive/FYP19-DocAI/temp/pre-trained'\n",
        "else:\n",
        "  OUTPUT_DIR = '/content/drive/MyDrive/FYP19-DocAI/temp/fine-tuned'\n",
        "trainer.save_model(OUTPUT_DIR)"
      ],
      "metadata": {
        "id": "L5S8WMxpRxJL"
      },
      "execution_count": null,
      "outputs": []
    },
    {
      "cell_type": "markdown",
      "source": [
        "# Inference"
      ],
      "metadata": {
        "id": "Xlfs3tgMbRsN"
      }
    },
    {
      "cell_type": "code",
      "source": [
        "from transformers import LiltForTokenClassification, AutoTokenizer\n",
        "from PIL import Image, ImageDraw, ImageFont\n",
        "import torch\n",
        "import numpy as np"
      ],
      "metadata": {
        "id": "0VHDZtIbhLyG"
      },
      "execution_count": null,
      "outputs": []
    },
    {
      "cell_type": "code",
      "source": [
        "device = torch.device(\"cuda\" if torch.cuda.is_available() else \"cpu\")"
      ],
      "metadata": {
        "id": "REDW8v7tkaXo"
      },
      "execution_count": null,
      "outputs": []
    },
    {
      "cell_type": "code",
      "source": [
        "image = Image.open('/content/drive/MyDrive/FYP19-DocAI/temp/image_001.jpg')"
      ],
      "metadata": {
        "id": "XXtDPMq2g440"
      },
      "execution_count": null,
      "outputs": []
    },
    {
      "cell_type": "code",
      "source": [
        "!tesseract --list-langs"
      ],
      "metadata": {
        "colab": {
          "base_uri": "https://localhost:8080/"
        },
        "id": "AbAjx1094v_6",
        "outputId": "dd13d776-de08-4f52-8e65-d500bebab895"
      },
      "execution_count": null,
      "outputs": [
        {
          "output_type": "stream",
          "name": "stdout",
          "text": [
            "List of available languages (3):\n",
            "eng\n",
            "osd\n",
            "sin\n"
          ]
        }
      ]
    },
    {
      "cell_type": "code",
      "source": [
        "width, height = image.size\n",
        "w_scale = 1000/width\n",
        "h_scale = 1000/height\n",
        "\n",
        "ocr_df = pytesseract.image_to_data(image, output_type='data.frame', lang='eng+sin')\n",
        "\n",
        "ocr_df = ocr_df.dropna() \\\n",
        "               .assign(left_scaled = ocr_df.left*w_scale,\n",
        "                       width_scaled = ocr_df.width*w_scale,\n",
        "                       top_scaled = ocr_df.top*h_scale,\n",
        "                       height_scaled = ocr_df.height*h_scale,\n",
        "                       right_scaled = lambda x: x.left_scaled + x.width_scaled,\n",
        "                       bottom_scaled = lambda x: x.top_scaled + x.height_scaled)\n",
        "\n",
        "float_cols = ocr_df.select_dtypes('float').columns\n",
        "ocr_df[float_cols] = ocr_df[float_cols].round(0).astype(int)\n",
        "ocr_df = ocr_df.replace(r'^\\s*$', np.nan, regex=True)\n",
        "ocr_df = ocr_df.dropna().reset_index(drop=True)\n",
        "# ocr_df[:20]"
      ],
      "metadata": {
        "id": "24NGPsKHgzzu"
      },
      "execution_count": null,
      "outputs": []
    },
    {
      "cell_type": "code",
      "source": [
        "len(ocr_df)"
      ],
      "metadata": {
        "colab": {
          "base_uri": "https://localhost:8080/"
        },
        "id": "7_nFaWyvhnGm",
        "outputId": "33105bc0-54ff-4c7a-d063-6aa6bbb47f0c"
      },
      "execution_count": null,
      "outputs": [
        {
          "output_type": "execute_result",
          "data": {
            "text/plain": [
              "189"
            ]
          },
          "metadata": {},
          "execution_count": 41
        }
      ]
    },
    {
      "cell_type": "code",
      "source": [
        "words = list(ocr_df.text)\n",
        "coordinates = ocr_df[['left', 'top', 'width', 'height']]\n",
        "actual_boxes = []\n",
        "for idx, row in coordinates.iterrows():\n",
        "  x, y, w, h = tuple(row) # the row comes in (left, top, width, height) format\n",
        "  actual_box = [x, y, x+w, y+h] # we turn it into (left, top, left+widght, top+height) to get the actual box\n",
        "  actual_boxes.append(actual_box)\n",
        "\n",
        "def normalize_box(box, width, height):\n",
        "    return [\n",
        "        int(1000 * (box[0] / width)),\n",
        "        int(1000 * (box[1] / height)),\n",
        "        int(1000 * (box[2] / width)),\n",
        "        int(1000 * (box[3] / height)),\n",
        "    ]\n",
        "\n",
        "boxes = []\n",
        "for box in actual_boxes:\n",
        "  boxes.append(normalize_box(box, width, height))\n",
        "# boxes"
      ],
      "metadata": {
        "id": "A-b-MaSlhqrs"
      },
      "execution_count": null,
      "outputs": []
    },
    {
      "cell_type": "code",
      "source": [
        "def convert_example_to_features(image, words, boxes, actual_boxes, tokenizer, args, cls_token_box=[0, 0, 0, 0],\n",
        "                                 sep_token_box=[1000, 1000, 1000, 1000],\n",
        "                                 pad_token_box=[0, 0, 0, 0]):\n",
        "      width, height = image.size\n",
        "\n",
        "      tokens = []\n",
        "      token_boxes = []\n",
        "      actual_bboxes = [] # we use an extra b because actual_boxes is already used\n",
        "      token_actual_boxes = []\n",
        "      for word, box, actual_bbox in zip(words, boxes, actual_boxes):\n",
        "          word_tokens = tokenizer.tokenize(word)\n",
        "          tokens.extend(word_tokens)\n",
        "          token_boxes.extend([box] * len(word_tokens))\n",
        "          actual_bboxes.extend([actual_bbox] * len(word_tokens))\n",
        "          token_actual_boxes.extend([actual_bbox] * len(word_tokens))\n",
        "\n",
        "      # Truncation: account for [CLS] and [SEP] with \"- 2\".\n",
        "      special_tokens_count = 2\n",
        "      if len(tokens) > args.max_seq_length - special_tokens_count:\n",
        "          tokens = tokens[: (args.max_seq_length - special_tokens_count)]\n",
        "          token_boxes = token_boxes[: (args.max_seq_length - special_tokens_count)]\n",
        "          actual_bboxes = actual_bboxes[: (args.max_seq_length - special_tokens_count)]\n",
        "          token_actual_boxes = token_actual_boxes[: (args.max_seq_length - special_tokens_count)]\n",
        "\n",
        "      # add [SEP] token, with corresponding token boxes and actual boxes\n",
        "      tokens += [tokenizer.sep_token]\n",
        "      token_boxes += [sep_token_box]\n",
        "      actual_bboxes += [[0, 0, width, height]]\n",
        "      token_actual_boxes += [[0, 0, width, height]]\n",
        "\n",
        "      segment_ids = [0] * len(tokens)\n",
        "\n",
        "      # next: [CLS] token\n",
        "      tokens = [tokenizer.cls_token] + tokens\n",
        "      token_boxes = [cls_token_box] + token_boxes\n",
        "      actual_bboxes = [[0, 0, width, height]] + actual_bboxes\n",
        "      token_actual_boxes = [[0, 0, width, height]] + token_actual_boxes\n",
        "      segment_ids = [1] + segment_ids\n",
        "\n",
        "      input_ids = tokenizer.convert_tokens_to_ids(tokens)\n",
        "\n",
        "      # The mask has 1 for real tokens and 0 for padding tokens. Only real\n",
        "      # tokens are attended to.\n",
        "      input_mask = [1] * len(input_ids)\n",
        "\n",
        "      # Zero-pad up to the sequence length.\n",
        "      padding_length = args.max_seq_length - len(input_ids)\n",
        "      input_ids += [tokenizer.pad_token_id] * padding_length\n",
        "      input_mask += [0] * padding_length\n",
        "      segment_ids += [tokenizer.pad_token_id] * padding_length\n",
        "      token_boxes += [pad_token_box] * padding_length\n",
        "      token_actual_boxes += [pad_token_box] * padding_length\n",
        "\n",
        "      assert len(input_ids) == args.max_seq_length\n",
        "      assert len(input_mask) == args.max_seq_length\n",
        "      assert len(segment_ids) == args.max_seq_length\n",
        "      #assert len(label_ids) == args.max_seq_length\n",
        "      assert len(token_boxes) == args.max_seq_length\n",
        "      assert len(token_actual_boxes) == args.max_seq_length\n",
        "\n",
        "      return input_ids, input_mask, segment_ids, token_boxes, token_actual_boxes"
      ],
      "metadata": {
        "id": "HTFA79ffh2uC"
      },
      "execution_count": null,
      "outputs": []
    },
    {
      "cell_type": "code",
      "source": [
        "tokenizer = AutoTokenizer.from_pretrained(\"nielsr/lilt-xlm-roberta-base\")"
      ],
      "metadata": {
        "id": "cG1GuuhDiu0O"
      },
      "execution_count": null,
      "outputs": []
    },
    {
      "cell_type": "code",
      "source": [
        "args = {\n",
        "        'max_seq_length': 512,\n",
        "}\n",
        "\n",
        "# class to turn the keys of a dict into attributes (thanks Stackoverflow)\n",
        "class AttrDict(dict):\n",
        "    def __init__(self, *args, **kwargs):\n",
        "        super(AttrDict, self).__init__(*args, **kwargs)\n",
        "        self.__dict__ = self\n",
        "\n",
        "args = AttrDict(args)"
      ],
      "metadata": {
        "id": "kjQCPeY8jtr9"
      },
      "execution_count": null,
      "outputs": []
    },
    {
      "cell_type": "code",
      "source": [
        "input_ids, input_mask, segment_ids, token_boxes, token_actual_boxes = convert_example_to_features(image=image, words=words, boxes=boxes, actual_boxes=actual_boxes, tokenizer=tokenizer, args=args)"
      ],
      "metadata": {
        "id": "9BNFnrXliQCx"
      },
      "execution_count": null,
      "outputs": []
    },
    {
      "cell_type": "code",
      "source": [
        "tokenizer.decode(input_ids)"
      ],
      "metadata": {
        "colab": {
          "base_uri": "https://localhost:8080/",
          "height": 122
        },
        "id": "d0BEjkgDkNY5",
        "outputId": "85d7b012-9652-4ee9-a499-a60f39903614"
      },
      "execution_count": null,
      "outputs": [
        {
          "output_type": "execute_result",
          "data": {
            "text/plain": [
              "'<s> ග් රාමසංවර්ධන අභ් යාස හා පර්යේෂණ ආයතනය පුහුණු වැඩසටහන් ඉල්ලුම් කිරීම සඳහා අයදුම් පත් රය අයදුම්කරන පුහුණු වැඩසටහනේ නම :-..... ඔහුම. සහභාගිවීමට කැමති පුගුණු මධාංස්ථානය :. මුලකරු සමඟ නම :~ ස්ත් රී/ පුරුෂ බව :-... ජාතික හැඳුනුම්පත් අංකය : ලබා ඇති ඉහළම අධා් යාපන සුදුසුකම සේවය කරන ආයතනයේ නම :- දැනට දරන තනතුර :-~........ මී. රාජකාරි ලිපිනය : මාර්ග සංවර්ධන අධිකාරිය, කුරුණෑගල මාර්ග සංවර්ධන අධිකාරිය පි ද අය නැ. 2 සං 1: අම: අ. දුරකථන අංකය ::. ෆැක්ස් අංකය :-........037-2230610ඌ. පෞද්ගලික ලිපිනය :ං ee ro ය wv කූ wo - පුද්ගලික දුරක ථන අංක, i eee පුගුණු වැඩසටහනට සම්බන්ධ පත තා කරන gouen මෑ න්ධ නව බාධයක් නී කූ දක ඉහත සඳහන් කරුණු සන් ය් යං ගා නිවරදි බව සහතික කරන අතර අදාළ පුගුණු වැඩසටහනට තෝරාගනු ලැබුවහොත් පුහුණු ආයතනයේ නීතිරීතිවලට එකඟව කටයුතු කිරීමට පොරොන්දු වෙමි. 2023/08/28 [ ෴෴2 ඳිනය අයදුම්කරුගේ. අත්සන ආයතන ප් රධානියාගේ සහතිකය අධාක් ක්ෂ ග් රාමසංවර්ධන අභ් යාස ගා පර්යේෂණ ආයතනය පී. ජී. එම්. එස්. ගුණරත්න මෙම ආයතනයේ සේවය කරන \"මංකාකරෙතාකෂමණමෙනවිය පුහුණු වැඩසටහන හැදෑරීම ඔහුගේ/ඇයගේ සේවා කටයුතු කෙරෙගි ඵලදායි වන බවත් පුහුණු කාලය තූළ රාජකාරි නිවාඩු අනුමත කළහැකි බවත් සගතික කරමි. ආයතන නිලධාරියාගේ අත්සන නම එම්. කේ. විජේසිංහ. (නිල මුද් රාව)</s><pad><pad><pad><pad><pad><pad><pad><pad><pad><pad><pad><pad><pad><pad><pad><pad><pad><pad><pad><pad><pad><pad><pad><pad><pad><pad><pad><pad><pad><pad><pad><pad><pad><pad><pad><pad><pad><pad><pad><pad><pad><pad><pad><pad><pad><pad><pad><pad><pad><pad><pad><pad><pad><pad><pad><pad><pad><pad><pad><pad><pad><pad><pad><pad><pad><pad><pad><pad><pad><pad><pad><pad><pad><pad><pad><pad><pad><pad><pad><pad><pad><pad><pad><pad><pad><pad><pad><pad><pad><pad><pad><pad><pad><pad><pad><pad><pad><pad><pad><pad><pad><pad><pad><pad><pad><pad><pad><pad><pad><pad><pad><pad><pad><pad><pad><pad><pad><pad><pad><pad><pad><pad><pad><pad><pad><pad><pad><pad><pad><pad><pad><pad><pad><pad><pad>'"
            ],
            "application/vnd.google.colaboratory.intrinsic+json": {
              "type": "string"
            }
          },
          "metadata": {},
          "execution_count": 62
        }
      ]
    },
    {
      "cell_type": "code",
      "source": [
        "input_ids = torch.tensor(input_ids, device=device).unsqueeze(0)\n",
        "input_ids.shape"
      ],
      "metadata": {
        "colab": {
          "base_uri": "https://localhost:8080/"
        },
        "id": "v19kY50SkTOF",
        "outputId": "12dee892-baf4-4f86-c1b9-4cc1436671af"
      },
      "execution_count": null,
      "outputs": [
        {
          "output_type": "execute_result",
          "data": {
            "text/plain": [
              "torch.Size([1, 512])"
            ]
          },
          "metadata": {},
          "execution_count": 63
        }
      ]
    },
    {
      "cell_type": "code",
      "source": [
        "attention_mask = torch.tensor(input_mask, device=device).unsqueeze(0)\n",
        "attention_mask.shape"
      ],
      "metadata": {
        "colab": {
          "base_uri": "https://localhost:8080/"
        },
        "id": "r9-CRO34kgrm",
        "outputId": "f7e22610-412d-4aff-de15-d14230e6c5a0"
      },
      "execution_count": null,
      "outputs": [
        {
          "output_type": "execute_result",
          "data": {
            "text/plain": [
              "torch.Size([1, 512])"
            ]
          },
          "metadata": {},
          "execution_count": 64
        }
      ]
    },
    {
      "cell_type": "code",
      "source": [
        "token_type_ids = torch.tensor(segment_ids, device=device).unsqueeze(0)\n",
        "token_type_ids.shape"
      ],
      "metadata": {
        "colab": {
          "base_uri": "https://localhost:8080/"
        },
        "id": "NVsTPPuhkiZc",
        "outputId": "d36bf8cf-6bb7-4174-b6f9-d357ad8855ec"
      },
      "execution_count": null,
      "outputs": [
        {
          "output_type": "execute_result",
          "data": {
            "text/plain": [
              "torch.Size([1, 512])"
            ]
          },
          "metadata": {},
          "execution_count": 65
        }
      ]
    },
    {
      "cell_type": "code",
      "source": [
        "bbox = torch.tensor(token_boxes, device=device).unsqueeze(0)\n",
        "bbox.shape"
      ],
      "metadata": {
        "colab": {
          "base_uri": "https://localhost:8080/"
        },
        "id": "avfqLYdjkkBG",
        "outputId": "fa8792bd-b48b-4b2a-c1c7-42284f9c4cf8"
      },
      "execution_count": null,
      "outputs": [
        {
          "output_type": "execute_result",
          "data": {
            "text/plain": [
              "torch.Size([1, 512, 4])"
            ]
          },
          "metadata": {},
          "execution_count": 66
        }
      ]
    },
    {
      "cell_type": "code",
      "source": [
        "model = LiltForTokenClassification.from_pretrained(OUTPUT_DIR)\n",
        "model.to(device)"
      ],
      "metadata": {
        "id": "YWeQjqqskqfD",
        "colab": {
          "base_uri": "https://localhost:8080/"
        },
        "outputId": "8ba265e2-dc76-4847-806c-f3c373cb51fe"
      },
      "execution_count": null,
      "outputs": [
        {
          "output_type": "execute_result",
          "data": {
            "text/plain": [
              "LiltForTokenClassification(\n",
              "  (lilt): LiltModel(\n",
              "    (embeddings): LiltTextEmbeddings(\n",
              "      (word_embeddings): Embedding(250002, 768, padding_idx=1)\n",
              "      (position_embeddings): Embedding(514, 768, padding_idx=1)\n",
              "      (token_type_embeddings): Embedding(1, 768)\n",
              "      (LayerNorm): LayerNorm((768,), eps=1e-05, elementwise_affine=True)\n",
              "      (dropout): Dropout(p=0.1, inplace=False)\n",
              "    )\n",
              "    (layout_embeddings): LiltLayoutEmbeddings(\n",
              "      (x_position_embeddings): Embedding(1024, 128)\n",
              "      (y_position_embeddings): Embedding(1024, 128)\n",
              "      (h_position_embeddings): Embedding(1024, 128)\n",
              "      (w_position_embeddings): Embedding(1024, 128)\n",
              "      (box_position_embeddings): Embedding(514, 192, padding_idx=1)\n",
              "      (box_linear_embeddings): Linear(in_features=768, out_features=192, bias=True)\n",
              "      (LayerNorm): LayerNorm((192,), eps=1e-05, elementwise_affine=True)\n",
              "      (dropout): Dropout(p=0.1, inplace=False)\n",
              "    )\n",
              "    (encoder): LiltEncoder(\n",
              "      (layer): ModuleList(\n",
              "        (0-11): 12 x LiltLayer(\n",
              "          (attention): LiltAttention(\n",
              "            (self): LiltSelfAttention(\n",
              "              (query): Linear(in_features=768, out_features=768, bias=True)\n",
              "              (key): Linear(in_features=768, out_features=768, bias=True)\n",
              "              (value): Linear(in_features=768, out_features=768, bias=True)\n",
              "              (layout_query): Linear(in_features=192, out_features=192, bias=True)\n",
              "              (layout_key): Linear(in_features=192, out_features=192, bias=True)\n",
              "              (layout_value): Linear(in_features=192, out_features=192, bias=True)\n",
              "              (dropout): Dropout(p=0.1, inplace=False)\n",
              "            )\n",
              "            (output): LiltSelfOutput(\n",
              "              (dense): Linear(in_features=768, out_features=768, bias=True)\n",
              "              (LayerNorm): LayerNorm((768,), eps=1e-05, elementwise_affine=True)\n",
              "              (dropout): Dropout(p=0.1, inplace=False)\n",
              "            )\n",
              "            (layout_output): LiltSelfOutput(\n",
              "              (dense): Linear(in_features=192, out_features=192, bias=True)\n",
              "              (LayerNorm): LayerNorm((192,), eps=1e-05, elementwise_affine=True)\n",
              "              (dropout): Dropout(p=0.1, inplace=False)\n",
              "            )\n",
              "          )\n",
              "          (intermediate): LiltIntermediate(\n",
              "            (dense): Linear(in_features=768, out_features=3072, bias=True)\n",
              "            (intermediate_act_fn): GELUActivation()\n",
              "          )\n",
              "          (output): LiltOutput(\n",
              "            (dense): Linear(in_features=3072, out_features=768, bias=True)\n",
              "            (LayerNorm): LayerNorm((768,), eps=1e-05, elementwise_affine=True)\n",
              "            (dropout): Dropout(p=0.1, inplace=False)\n",
              "          )\n",
              "          (layout_intermediate): LiltIntermediate(\n",
              "            (dense): Linear(in_features=192, out_features=768, bias=True)\n",
              "            (intermediate_act_fn): GELUActivation()\n",
              "          )\n",
              "          (layout_output): LiltOutput(\n",
              "            (dense): Linear(in_features=768, out_features=192, bias=True)\n",
              "            (LayerNorm): LayerNorm((192,), eps=1e-05, elementwise_affine=True)\n",
              "            (dropout): Dropout(p=0.1, inplace=False)\n",
              "          )\n",
              "        )\n",
              "      )\n",
              "    )\n",
              "  )\n",
              "  (dropout): Dropout(p=0.1, inplace=False)\n",
              "  (classifier): Linear(in_features=768, out_features=7, bias=True)\n",
              ")"
            ]
          },
          "metadata": {},
          "execution_count": 67
        }
      ]
    },
    {
      "cell_type": "code",
      "source": [
        "outputs = model(input_ids=input_ids.to(device), bbox=bbox.to(device), attention_mask=attention_mask.to(device))\n",
        "outputs"
      ],
      "metadata": {
        "colab": {
          "base_uri": "https://localhost:8080/"
        },
        "id": "-8dSYuxykloV",
        "outputId": "97a0bae8-4e97-4a35-e385-752b146f2f55"
      },
      "execution_count": null,
      "outputs": [
        {
          "output_type": "execute_result",
          "data": {
            "text/plain": [
              "TokenClassifierOutput(loss=None, logits=tensor([[[ 0.9604, -1.0732, -0.4427,  ...,  0.2124, -0.0277, -0.1506],\n",
              "         [-1.2598,  5.7560,  1.8155,  ..., -2.2918,  1.2276, -3.1457],\n",
              "         [-0.1191, -2.2371,  7.4897,  ..., -0.2359, -2.0874,  0.3311],\n",
              "         ...,\n",
              "         [ 1.1739, -1.2415, -0.5845,  ...,  0.3710, -0.0723, -0.1379],\n",
              "         [ 1.1739, -1.2415, -0.5845,  ...,  0.3710, -0.0723, -0.1379],\n",
              "         [ 1.1739, -1.2415, -0.5845,  ...,  0.3710, -0.0723, -0.1379]]],\n",
              "       device='cuda:0', grad_fn=<ViewBackward0>), hidden_states=None, attentions=None)"
            ]
          },
          "metadata": {},
          "execution_count": 68
        }
      ]
    },
    {
      "cell_type": "code",
      "source": [
        "outputs.logits.shape"
      ],
      "metadata": {
        "colab": {
          "base_uri": "https://localhost:8080/"
        },
        "id": "_dVSy00_szvF",
        "outputId": "149d3334-68f6-4b60-ff7b-79429dbd4dea"
      },
      "execution_count": null,
      "outputs": [
        {
          "output_type": "execute_result",
          "data": {
            "text/plain": [
              "torch.Size([1, 512, 7])"
            ]
          },
          "metadata": {},
          "execution_count": 69
        }
      ]
    },
    {
      "cell_type": "code",
      "source": [
        "outputs.logits.argmax(-1)"
      ],
      "metadata": {
        "colab": {
          "base_uri": "https://localhost:8080/"
        },
        "id": "Zf_UH9VotAxY",
        "outputId": "987d2b9a-1a65-48aa-c2b2-bc82a975e012"
      },
      "execution_count": null,
      "outputs": [
        {
          "output_type": "execute_result",
          "data": {
            "text/plain": [
              "tensor([[0, 1, 2, 2, 2, 2, 2, 2, 2, 2, 2, 2, 2, 2, 2, 2, 2, 2, 2, 2, 2, 3, 4, 4,\n",
              "         4, 4, 4, 4, 4, 5, 5, 6, 6, 3, 4, 4, 5, 6, 6, 6, 6, 6, 6, 6, 6, 6, 3, 4,\n",
              "         4, 4, 4, 4, 3, 4, 4, 4, 4, 4, 4, 4, 3, 4, 4, 4, 4, 4, 4, 4, 4, 3, 4, 4,\n",
              "         4, 4, 4, 4, 4, 4, 4, 4, 4, 4, 4, 4, 4, 4, 3, 4, 4, 4, 4, 5, 6, 5, 6, 3,\n",
              "         4, 4, 5, 6, 6, 6, 6, 6, 6, 6, 6, 5, 6, 6, 3, 0, 4, 0, 0, 0, 3, 4, 4, 4,\n",
              "         5, 4, 4, 4, 4, 4, 4, 3, 4, 4, 4, 4, 4, 4, 4, 5, 5, 6, 6, 6, 6, 6, 6, 5,\n",
              "         0, 3, 4, 4, 4, 5, 0, 0, 0, 5, 0, 6, 6, 0, 0, 0, 0, 0, 0, 0, 0, 4, 0, 0,\n",
              "         0, 0, 0, 0, 0, 0, 0, 0, 0, 0, 0, 0, 0, 0, 5, 6, 6, 6, 6, 6, 6, 6, 6, 6,\n",
              "         6, 6, 6, 6, 6, 0, 0, 0, 0, 0, 0, 6, 0, 0, 0, 0, 0, 0, 0, 0, 0, 0, 0, 0,\n",
              "         0, 0, 0, 0, 0, 0, 0, 0, 0, 0, 0, 0, 0, 0, 0, 0, 0, 0, 0, 0, 0, 0, 0, 0,\n",
              "         5, 0, 0, 0, 0, 0, 0, 0, 0, 0, 0, 0, 4, 4, 4, 0, 0, 4, 4, 1, 2, 2, 2, 2,\n",
              "         2, 2, 0, 0, 0, 0, 0, 0, 0, 0, 0, 0, 0, 0, 0, 0, 6, 0, 5, 6, 6, 6, 6, 6,\n",
              "         6, 6, 6, 6, 6, 6, 6, 6, 6, 0, 0, 0, 0, 0, 0, 0, 0, 0, 0, 0, 0, 0, 0, 0,\n",
              "         0, 0, 0, 0, 0, 0, 0, 0, 0, 0, 0, 0, 0, 0, 0, 0, 0, 0, 0, 0, 0, 0, 0, 0,\n",
              "         0, 0, 0, 0, 0, 0, 0, 0, 0, 0, 0, 0, 0, 0, 0, 0, 0, 0, 0, 3, 4, 4, 4, 4,\n",
              "         3, 5, 5, 6, 6, 6, 6, 6, 6, 6, 0, 0, 0, 0, 0, 0, 0, 0, 0, 0, 0, 0, 0, 0,\n",
              "         0, 0, 0, 0, 0, 0, 0, 0, 0, 0, 0, 0, 0, 0, 0, 0, 0, 0, 0, 0, 0, 0, 0, 0,\n",
              "         0, 0, 0, 0, 0, 0, 0, 0, 0, 0, 0, 0, 0, 0, 0, 0, 0, 0, 0, 0, 0, 0, 0, 0,\n",
              "         0, 0, 0, 0, 0, 0, 0, 0, 0, 0, 0, 0, 0, 0, 0, 0, 0, 0, 0, 0, 0, 0, 0, 0,\n",
              "         0, 0, 0, 0, 0, 0, 0, 0, 0, 0, 0, 0, 0, 0, 0, 0, 0, 0, 0, 0, 0, 0, 0, 0,\n",
              "         0, 0, 0, 0, 0, 0, 0, 0, 0, 0, 0, 0, 0, 0, 0, 0, 0, 0, 0, 0, 0, 0, 0, 0,\n",
              "         0, 0, 0, 0, 0, 0, 0, 0]], device='cuda:0')"
            ]
          },
          "metadata": {},
          "execution_count": 70
        }
      ]
    },
    {
      "cell_type": "code",
      "source": [
        "label2color = {\n",
        "    \"B-HEADER\": \"blue\",\n",
        "    \"B-QUESTION\": \"red\",\n",
        "    \"B-ANSWER\": \"green\",\n",
        "    \"I-HEADER\": \"blue\",\n",
        "    \"I-QUESTION\": \"red\",\n",
        "    \"I-ANSWER\": \"green\",\n",
        "    \"O\": \"yellow\"\n",
        "}\n",
        "\n",
        "# helper function to unnormalize bboxes for drawing onto the image\n",
        "def unnormalize_box(bbox, width, height):\n",
        "    return [\n",
        "        width * (bbox[0] / 1000),\n",
        "        height * (bbox[1] / 1000),\n",
        "        width * (bbox[2] / 1000),\n",
        "        height * (bbox[3] / 1000),\n",
        "    ]\n",
        "\n",
        "def draw_boxes(image, boxes, predictions):\n",
        "  width, height = image.size\n",
        "  normalizes_boxes = [unnormalize_box(box, width, height) for box in boxes]\n",
        "\n",
        "  # draw predictions over the image\n",
        "  draw = ImageDraw.Draw(image)\n",
        "  font = ImageFont.load_default()\n",
        "  for prediction, box in zip(predictions, normalizes_boxes):\n",
        "      # if prediction == \"O\":\n",
        "      #     continue\n",
        "      draw.rectangle(box, outline=\"black\")\n",
        "      draw.rectangle(box, outline=label2color[prediction])\n",
        "      draw.text((box[0] + 10, box[1] - 10), text=prediction, fill=label2color[prediction], font=font)\n",
        "  return image\n",
        "\n",
        "predictions = outputs.logits.argmax(-1).squeeze().tolist()\n",
        "\n",
        "# get labels\n",
        "labels = [model.config.id2label[prediction] for prediction in predictions]\n",
        "display(draw_boxes(image, bbox[0], labels))"
      ],
      "metadata": {
        "colab": {
          "base_uri": "https://localhost:8080/",
          "height": 1000
        },
        "id": "3pabyxA-tEiV",
        "outputId": "75cdf868-957c-47d2-c2b6-9cd73609d506"
      },
      "execution_count": null,
      "outputs": [
        {
          "output_type": "display_data",
          "data": {
            "text/plain": [
              "<PIL.JpegImagePlugin.JpegImageFile image mode=RGB size=1241x1754>"
            ],
            "image/png": "[encoded data removed]"
          },
          "metadata": {}
        }
      ]
    },
    {
      "cell_type": "code",
      "source": [
        "outputs.logits.argmax(-1).shape"
      ],
      "metadata": {
        "colab": {
          "base_uri": "https://localhost:8080/"
        },
        "id": "ZOPSDnrEbP5D",
        "outputId": "9f183aa0-7e99-4d65-c107-3d83bb84f0aa"
      },
      "execution_count": null,
      "outputs": [
        {
          "output_type": "execute_result",
          "data": {
            "text/plain": [
              "torch.Size([1, 512])"
            ]
          },
          "metadata": {},
          "execution_count": 72
        }
      ]
    },
    {
      "cell_type": "markdown",
      "source": [
        "# Debugging"
      ],
      "metadata": {
        "id": "nHCkHKzfH0WE"
      }
    },
    {
      "cell_type": "code",
      "source": [
        "import evaluate\n",
        "\n",
        "metric = evaluate.load(\"seqeval\")"
      ],
      "metadata": {
        "id": "1hbubcjTH25c"
      },
      "execution_count": null,
      "outputs": []
    },
    {
      "cell_type": "code",
      "source": [
        "import pickle\n",
        "with open('/content/drive/MyDrive/FYP19-DocAI/temp/tl.pkl', 'rb') as f:\n",
        "  tl = pickle.load(f)\n",
        "\n",
        "with open('/content/drive/MyDrive/FYP19-DocAI/temp/tp.pkl', 'rb') as f:\n",
        "  tp = pickle.load(f)"
      ],
      "metadata": {
        "id": "Zk5OvbUEILlD"
      },
      "execution_count": null,
      "outputs": []
    },
    {
      "cell_type": "code",
      "source": [
        "metric.compute(predictions=tp, references=tl)"
      ],
      "metadata": {
        "id": "ual4oxupIIv_"
      },
      "execution_count": null,
      "outputs": []
    },
    {
      "cell_type": "code",
      "source": [
        "len(tp[0])"
      ],
      "metadata": {
        "id": "pjAwDESciG0i"
      },
      "execution_count": null,
      "outputs": []
    },
    {
      "cell_type": "code",
      "source": [
        "len(tl[0])"
      ],
      "metadata": {
        "id": "nEVw7-lkhvPV"
      },
      "execution_count": null,
      "outputs": []
    },
    {
      "cell_type": "code",
      "source": [
        "set(tp[0])"
      ],
      "metadata": {
        "id": "mh5OaoKbiL46"
      },
      "execution_count": null,
      "outputs": []
    },
    {
      "cell_type": "markdown",
      "source": [
        "/usr/local/lib/python3.10/dist-packages/seqeval/metrics/v1.py:57: UndefinedMetricWarning: Precision and F-score are ill-defined and being set to 0.0 in labels with no predicted samples. Use `zero_division` parameter to control this behavior.\n",
        "  _warn_prf(average, modifier, msg_start, len(result))"
      ],
      "metadata": {
        "id": "6YjsbRkNIQ7a"
      }
    }
  ]
}